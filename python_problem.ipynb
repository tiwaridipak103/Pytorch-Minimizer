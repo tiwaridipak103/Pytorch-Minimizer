{
 "cells": [
  {
   "cell_type": "markdown",
   "metadata": {},
   "source": [
    "# Practice Questions On Functions"
   ]
  },
  {
   "cell_type": "markdown",
   "metadata": {},
   "source": [
    "1. Write a function that inputs a number and prints the multiplication table of that number"
   ]
  },
  {
   "cell_type": "code",
   "execution_count": 3,
   "metadata": {
    "scrolled": true
   },
   "outputs": [
    {
     "name": "stdout",
     "output_type": "stream",
     "text": [
      "5 * 1 = 5\n",
      "5 * 2 = 10\n",
      "5 * 3 = 15\n",
      "5 * 4 = 20\n",
      "5 * 5 = 25\n",
      "5 * 6 = 30\n",
      "5 * 7 = 35\n",
      "5 * 8 = 40\n",
      "5 * 9 = 45\n",
      "5 * 10 = 50\n"
     ]
    }
   ],
   "source": [
    "def multiply(x):\n",
    "    for i in range(1,11):\n",
    "        print(f'{x} * {i} = {x*i}')\n",
    "\n",
    "        \n",
    "multiply(5)    "
   ]
  },
  {
   "cell_type": "markdown",
   "metadata": {},
   "source": [
    "2. Write a program to print twin primes  less than 1000. If two consecutive odd numbers are \n",
    "both prime then they are known as twin primes"
   ]
  },
  {
   "cell_type": "code",
   "execution_count": 5,
   "metadata": {},
   "outputs": [
    {
     "name": "stdout",
     "output_type": "stream",
     "text": [
      "(3,5) (11,13) (17,19) (29,31) (41,43) (59,61) (71,73) (101,103) (107,109) (137,139) (149,151) (179,181) (191,193) (197,199) (227,229) (239,241) (269,271) (281,283) (311,313) (347,349) (419,421) (431,433) (461,463) (521,523) (569,571) (599,601) (617,619) (641,643) (659,661) (809,811) (821,823) (827,829) (857,859) (881,883) "
     ]
    }
   ],
   "source": [
    "def prime(x):\n",
    "    i=[]\n",
    "    for j in range(x):\n",
    "        c=0\n",
    "        # to check if the given number 'j' is prime number or not.\n",
    "        for n in range(2,j):\n",
    "            if j%n==0:\n",
    "                c=1\n",
    "                break\n",
    "        #if 'j' satisfy the condition , then 'j' will be append to list 'i'        \n",
    "        if c==0:\n",
    "            i.append(j)\n",
    "    l=[]\n",
    "    \n",
    "    # to check two consecutive odd numbers are both prime \n",
    "    for k in i:\n",
    "        if len(l)<=1:\n",
    "            l.append(k)\n",
    "        elif len(l)==2:\n",
    "            a,b=l\n",
    "            # if two consecutive odd numbers are both prime, then it print the numbers in tuple\n",
    "            if a+2==b:\n",
    "                l=[]\n",
    "                print(f'({a},{b})',end=' ')\n",
    "                l.append(k)\n",
    "            # if two consecutive odd numbers are not prime, then it empty the list append the 'b'\n",
    "            # next 'k' values to list 'l' \n",
    "            else:\n",
    "                l=[]\n",
    "                l.append(b)\n",
    "                l.append(k)\n",
    "            \n",
    "        else:\n",
    "            print('')\n",
    "                            \n",
    "prime(1000) "
   ]
  },
  {
   "cell_type": "markdown",
   "metadata": {},
   "source": [
    "3. Write a program to find out the prime factors of a number. Example: prime \n",
    "    factors of 56 - 2, 2, 2, 7"
   ]
  },
  {
   "cell_type": "code",
   "execution_count": 6,
   "metadata": {},
   "outputs": [
    {
     "name": "stdout",
     "output_type": "stream",
     "text": [
      "the prime factor of 56 is [2, 2, 2, 7]\n"
     ]
    }
   ],
   "source": [
    "def prime_factor(x):\n",
    "    a=x\n",
    "    l=[]\n",
    "    i=2\n",
    "    while i<=x:\n",
    "        if x%i==0:\n",
    "            l.append(i)\n",
    "            x=x/i\n",
    "            i=2\n",
    "        else:\n",
    "            i=i+1\n",
    "    print('the prime factor of {} is {}'.format(a,l)) \n",
    "    \n",
    "    \n",
    "prime_factor(56) "
   ]
  },
  {
   "cell_type": "markdown",
   "metadata": {},
   "source": [
    "4. Write a program to implement these formulae of permutations and combinations. Number of \n",
    "permutations of n objects taken r at a time: p(n, r) = n! / (n-r)!.  Number of combinations \n",
    "of n objects taken r at a time is: c(n, r) = n! / (r!*(n-r)!) = p(n,r) / r!"
   ]
  },
  {
   "cell_type": "code",
   "execution_count": 2,
   "metadata": {},
   "outputs": [
    {
     "name": "stdout",
     "output_type": "stream",
     "text": [
      "the permutation of 10 and 5 is 30240.0\n",
      "the combination of 10 and 5 is 252.0\n"
     ]
    }
   ],
   "source": [
    "def permutation_combination(x,r):\n",
    "    #this function return factorial of 'b'\n",
    "    def factorial(b):\n",
    "        a=1\n",
    "        for i in range(1,b+1):\n",
    "            a=a*i\n",
    "        return a\n",
    "    \n",
    "    y=factorial(x)/factorial(x-r)\n",
    "    z=y/factorial(r)\n",
    "    print('the permutation of {} and {} is {}'.format(x,r,y))\n",
    "    print('the combination of {} and {} is {}'.format(x,r,z))\n",
    "\n",
    "    \n",
    "permutation_combination(10,5)   "
   ]
  },
  {
   "cell_type": "markdown",
   "metadata": {},
   "source": [
    "5. Write a function that converts a decimal number to binary number"
   ]
  },
  {
   "cell_type": "code",
   "execution_count": 3,
   "metadata": {},
   "outputs": [
    {
     "name": "stdout",
     "output_type": "stream",
     "text": [
      "the prime factor of 11 is [1, 0, 1, 1]\n"
     ]
    }
   ],
   "source": [
    "def decimal_to_binary(x):\n",
    "    z=x\n",
    "    l=[]\n",
    "    i=2\n",
    "    while x>=2:\n",
    "        a=x%i\n",
    "        l.append(a)\n",
    "        x=x//i\n",
    "        i=2\n",
    "    if z == 0:    \n",
    "        l.append(0)\n",
    "    else:\n",
    "        l.append(1)\n",
    "        \n",
    "    l=list(reversed(l))\n",
    "    print('the prime factor of {} is {}'.format(z,l)) \n",
    "    \n",
    "    \n",
    "decimal_to_binary(11)"
   ]
  },
  {
   "cell_type": "markdown",
   "metadata": {},
   "source": [
    "6. Write a function cubesum() that accepts an integer and returns the sum of the cubes of \n",
    "individual digits of that number. Use this function to make functions PrintArmstrong() and \n",
    "isArmstrong() to print Armstrong numbers and to find whether is an Armstrong number."
   ]
  },
  {
   "cell_type": "code",
   "execution_count": 4,
   "metadata": {},
   "outputs": [
    {
     "name": "stdout",
     "output_type": "stream",
     "text": [
      "the given number 153 is Armstrong number\n"
     ]
    }
   ],
   "source": [
    "def PrintArmstrong(number):\n",
    "    \n",
    "    #this function returns the sum of the cubes of individual digits of that number\n",
    "    def cubesum(num):\n",
    "        li = [int(x) for x in str(num)]\n",
    "        sum=0\n",
    "        for i in li:\n",
    "            sum=sum+i*i*i\n",
    "        return sum\n",
    "    \n",
    "    #this function print Armstrong numbers and to find whether is an Armstrong number.\n",
    "    def isArmstrong(numb):\n",
    "        b=numb\n",
    "        a=cubesum(number)\n",
    "        if a==b:\n",
    "            return 'the given number {} is Armstrong number'.format(b)\n",
    "        else:\n",
    "            return 'the given number {} is not Armstrong number'.format(b)\n",
    "    \n",
    "    print(isArmstrong(number))\n",
    "\n",
    "    \n",
    "    \n",
    "PrintArmstrong(153)  "
   ]
  },
  {
   "cell_type": "markdown",
   "metadata": {},
   "source": [
    "7. Write a function prodDigits() that inputs a number and returns the product of digits of that \n",
    "number."
   ]
  },
  {
   "cell_type": "code",
   "execution_count": 5,
   "metadata": {},
   "outputs": [
    {
     "name": "stdout",
     "output_type": "stream",
     "text": [
      "the product of digits of number 123 is 6\n"
     ]
    }
   ],
   "source": [
    "def prodDigits(num):\n",
    "    li = [int(x) for x in str(num)]\n",
    "    product=1\n",
    "    for i in li:\n",
    "        product=product*i\n",
    "    print('the product of digits of number {} is {}'.format(num,product))\n",
    "    \n",
    "prodDigits(123)  "
   ]
  },
  {
   "cell_type": "markdown",
   "metadata": {},
   "source": [
    "8. If all digits of a number n are multiplied by each other repeating with the product, the one \n",
    "digit number obtained at last is called the multiplicative digital root of n. The number of times \n",
    "digits need to be multiplied to reach one digit is called the multiplicative persistance of n. \n",
    "Example: 86 -> 48 -> 32 -> 6 (MDR 6, MPersistence 3)               341 -> 12->2           (MDR 2, MPersistence 2) Using the function prodDigits() of previous exercise write functions MDR() and MPersistence() that input a number and return its multiplicative digital root and multiplicative persistence respectively"
   ]
  },
  {
   "cell_type": "code",
   "execution_count": 13,
   "metadata": {},
   "outputs": [
    {
     "name": "stdout",
     "output_type": "stream",
     "text": [
      "MDR is 2, MPersistence is 2\n"
     ]
    }
   ],
   "source": [
    "def MDR(num):\n",
    "    \n",
    "    Mper = []\n",
    "    def MPersistence(l):\n",
    "        persistant=0\n",
    "        while len(l)!=1:\n",
    "            s = [str(i) for i in l]\n",
    "            r = int(\"\".join(s))\n",
    "            c=prodDigits(r)\n",
    "            persistant=persistant+1\n",
    "            l = [int(x) for x in str(c)]\n",
    "        return c,persistant\n",
    "    \n",
    "    def prodDigits(n):\n",
    "        li = [int(x) for x in str(n)]\n",
    "        product=1\n",
    "        for i in li:\n",
    "            product=product*i\n",
    "        return product \n",
    "    \n",
    "    l = [int(x) for x in str(num)]\n",
    "    \n",
    "    if len(l)==1:\n",
    "        a=num\n",
    "        print('MDR is {}, MPersistence is 0'.format(a))\n",
    "    \n",
    "    else:\n",
    "        Mper = MPersistence(l)\n",
    "        print(f'MDR is {Mper[0]}, MPersistence is {Mper[1]}') \n",
    "        \n",
    "        \n",
    "                     \n",
    "        \n",
    "MDR(341)       "
   ]
  },
  {
   "cell_type": "markdown",
   "metadata": {},
   "source": [
    "9. Write a function sumPdivisors() that finds the sum of proper divisors of a number. Proper \n",
    "divisors of a number are those numbers by which the number is divisible, except the number itself.  For example proper divisors of 36 are 1, 2, 3, 4, 6, 9, 12, 18"
   ]
  },
  {
   "cell_type": "code",
   "execution_count": 14,
   "metadata": {},
   "outputs": [
    {
     "name": "stdout",
     "output_type": "stream",
     "text": [
      "[1, 2, 3, 4, 6, 9, 12, 18]\n"
     ]
    }
   ],
   "source": [
    "def sumPdivisors(num):\n",
    "    l=[]\n",
    "    for i in range(1,num):\n",
    "        if num%i==0:\n",
    "            l.append(i)\n",
    "    print(l)\n",
    "    \n",
    "sumPdivisors(36) "
   ]
  },
  {
   "cell_type": "markdown",
   "metadata": {},
   "source": [
    "10. A number is called perfect if the sum of proper divisors of that number is equal to the number. For example 28 is perfect number, since 1+2+4+7+14=28. Write a program to print all the perfect numbers in a given range"
   ]
  },
  {
   "cell_type": "code",
   "execution_count": 15,
   "metadata": {},
   "outputs": [
    {
     "name": "stdout",
     "output_type": "stream",
     "text": [
      "the given number 28 is perfect number\n"
     ]
    }
   ],
   "source": [
    "def perfect(num):\n",
    "    l=[]\n",
    "    for i in range(1,num):\n",
    "        if num%i==0:\n",
    "            l.append(i)\n",
    "    \n",
    "    sum=0\n",
    "    for i in l:\n",
    "        sum=sum+i\n",
    "    \n",
    "    if sum==num:\n",
    "        print('the given number {} is perfect number'.format(num))\n",
    "    \n",
    "    else:\n",
    "        print('the given number {} is not perfect number'.format(num))\n",
    "        \n",
    "    \n",
    "perfect(28)"
   ]
  },
  {
   "cell_type": "markdown",
   "metadata": {},
   "source": [
    "11.Two different numbers are called amicable numbers if the sum of the proper divisors of each is equal to the other number. For example 220 and 284 are amicable numbers.\n",
    "Sum of proper divisors of 220 = 1+2+4+5+10+11+20+22+44+55+110 = 284 Sum of proper divisors of 284 = 1+2+4+71+142 = 220 Write a function to print pairs of amicable numbers in a range"
   ]
  },
  {
   "cell_type": "code",
   "execution_count": 20,
   "metadata": {},
   "outputs": [
    {
     "name": "stdout",
     "output_type": "stream",
     "text": [
      "(6,6) (28,28) (220,284) (284,220) (496,496) (1184,1210) (1210,1184) "
     ]
    }
   ],
   "source": [
    "def amicable(x):\n",
    "    \n",
    "    def sumof(num):\n",
    "        l=[]\n",
    "        for i in range(1,num):\n",
    "            if num%i==0:\n",
    "                l.append(i)\n",
    "        sum=0\n",
    "        for i in l:\n",
    "            sum=sum+i\n",
    "        return sum    \n",
    "        \n",
    "        \n",
    "    for i in range(2,x+1):\n",
    "        a=sumof(i)\n",
    "        b=sumof(a)\n",
    "        if i==b and b<=x:\n",
    "            print(f'({i},{a})',end=' ')\n",
    "            \n",
    "            \n",
    "amicable(2000)"
   ]
  },
  {
   "cell_type": "markdown",
   "metadata": {},
   "source": [
    "12.Write a program which can filter odd numbers in a list by using filter function"
   ]
  },
  {
   "cell_type": "code",
   "execution_count": 21,
   "metadata": {},
   "outputs": [
    {
     "name": "stdout",
     "output_type": "stream",
     "text": [
      "[53, 105]\n"
     ]
    }
   ],
   "source": [
    "l=[10,53,105,450,64]\n",
    "odd_number = list(filter(lambda y: (y%2 != 0) , l))\n",
    "print(odd_number)"
   ]
  },
  {
   "cell_type": "markdown",
   "metadata": {},
   "source": [
    "13.Write a program which can map() to make a list whose elements are cube of elements in a given list"
   ]
  },
  {
   "cell_type": "code",
   "execution_count": 22,
   "metadata": {},
   "outputs": [
    {
     "name": "stdout",
     "output_type": "stream",
     "text": [
      "[1, 8, 27, 64, 125]\n"
     ]
    }
   ],
   "source": [
    "l=[1,2,3,4,5]\n",
    "cube = list(map(lambda x:x*x*x,l))\n",
    "print(cube)"
   ]
  },
  {
   "cell_type": "markdown",
   "metadata": {},
   "source": [
    "14.Write a program which can map() and filter() to make a list whose elements are cube of even number in a given list"
   ]
  },
  {
   "cell_type": "code",
   "execution_count": 23,
   "metadata": {},
   "outputs": [
    {
     "name": "stdout",
     "output_type": "stream",
     "text": [
      "[8, 64]\n"
     ]
    }
   ],
   "source": [
    "l=[1,2,3,4,5]\n",
    "even_number = list(filter(lambda y: (y%2== 0) , l))\n",
    "cube = list(map(lambda x:x*x*x,even_number))\n",
    "print(cube)"
   ]
  }
 ],
 "metadata": {
  "kernelspec": {
   "display_name": "Python 3",
   "language": "python",
   "name": "python3"
  },
  "language_info": {
   "codemirror_mode": {
    "name": "ipython",
    "version": 3
   },
   "file_extension": ".py",
   "mimetype": "text/x-python",
   "name": "python",
   "nbconvert_exporter": "python",
   "pygments_lexer": "ipython3",
   "version": "3.7.5"
  }
 },
 "nbformat": 4,
 "nbformat_minor": 4
}
