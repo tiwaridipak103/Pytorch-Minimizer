{
 "cells": [
  {
   "cell_type": "code",
   "execution_count": 3,
   "id": "51f63b8a-2f8f-4660-b0b5-8534106b3dd5",
   "metadata": {},
   "outputs": [
    {
     "name": "stdout",
     "output_type": "stream",
     "text": [
      "120\n"
     ]
    }
   ],
   "source": [
    "def factorial(n):\n",
    "    assert n >= 0 and int(n) ==n , 'The number must be positive integers'\n",
    "\n",
    "    if n == 0 :\n",
    "        return 1\n",
    "\n",
    "    else:\n",
    "        return n * factorial(n - 1)\n",
    "\n",
    "k = factorial(5)\n",
    "print(k)"
   ]
  },
  {
   "cell_type": "code",
   "execution_count": 8,
   "id": "7d1e1b0c-a39c-40e7-9b73-08c7d49eb967",
   "metadata": {},
   "outputs": [
    {
     "name": "stdout",
     "output_type": "stream",
     "text": [
      "13\n"
     ]
    }
   ],
   "source": [
    "def Fibonacci(n):\n",
    "    assert n >= 0 and int(n) ==n , 'The number must be positive integers'\n",
    "\n",
    "    if n in [0,1]:\n",
    "        return n\n",
    "\n",
    "    else:\n",
    "        return Fibonacci(n- 1) + Fibonacci(n- 2)\n",
    "    \n",
    "k = Fibonacci(7)\n",
    "print(k)    "
   ]
  },
  {
   "cell_type": "markdown",
   "id": "9888f02f-9424-4c81-88d6-86e83eb181e2",
   "metadata": {},
   "source": [
    "# How to find sum of digits of a positive integer number using resursion"
   ]
  },
  {
   "cell_type": "code",
   "execution_count": 13,
   "id": "d5c6f165-4702-4ca3-a53b-6366891d77eb",
   "metadata": {},
   "outputs": [
    {
     "name": "stdout",
     "output_type": "stream",
     "text": [
      "4\n"
     ]
    }
   ],
   "source": [
    "def sumOfDigits(n):\n",
    "    assert n >= 0 and int(n) ==n , 'The number must be positive integers'\n",
    "\n",
    "    if n == 0:\n",
    "        return 0\n",
    "\n",
    "    else:\n",
    "        return int(n % 10) + sumOfDigits(int(n / 10))\n",
    "\n",
    "k = sumOfDigits(112)\n",
    "print(k)"
   ]
  },
  {
   "cell_type": "markdown",
   "id": "5450ae5a-683f-43d3-8f9c-f5db700a8e19",
   "metadata": {},
   "source": [
    "# How to find power of a number using recursion"
   ]
  },
  {
   "cell_type": "code",
   "execution_count": 15,
   "id": "b982ea0e-bd1e-40b4-909b-b8e36a2d1dd5",
   "metadata": {},
   "outputs": [
    {
     "data": {
      "text/plain": [
       "0.25"
      ]
     },
     "execution_count": 15,
     "metadata": {},
     "output_type": "execute_result"
    }
   ],
   "source": [
    "def power(base, exp):\n",
    "    assert int(exp) == exp , 'The exponent must be integer number only'\n",
    "\n",
    "    if exp == 0:\n",
    "        return 1\n",
    "\n",
    "    elif exp < 0 :\n",
    "        return 1/ base * power(base, exp + 1) \n",
    "\n",
    "    else:\n",
    "        return base * power(base, exp - 1) \n",
    "\n",
    "k = power(2, -2)    \n",
    "k"
   ]
  },
  {
   "cell_type": "markdown",
   "id": "614f94d2-150e-4f3c-b616-29ed72f93fa5",
   "metadata": {},
   "source": [
    "# How to find Greatest common factor of two numbers using recursion"
   ]
  },
  {
   "cell_type": "code",
   "execution_count": 19,
   "id": "a04f368b-fe9c-4a9c-97e2-129e4e746009",
   "metadata": {},
   "outputs": [
    {
     "name": "stdout",
     "output_type": "stream",
     "text": [
      "6\n"
     ]
    }
   ],
   "source": [
    "def gcf(a , b):\n",
    "    assert int(a) == a  and int(b) == b , 'The exponent must be integer number only'\n",
    "\n",
    "    if a < 0 :\n",
    "        a = -1 * a\n",
    "\n",
    "    if b < 0 :\n",
    "        b = -1 * b\n",
    "\n",
    "    if b == 0:\n",
    "        return a\n",
    "\n",
    "    else:\n",
    "        return gcf(b , a % b)\n",
    "\n",
    "print(gcf(48 , 18))\n",
    "\n"
   ]
  },
  {
   "cell_type": "markdown",
   "id": "0350e8d7-ea5a-4550-ad61-8c37b1f4ac4f",
   "metadata": {},
   "source": [
    "# Given a list of integers, how can you write a function gcd to find the greatest common denominator between them?"
   ]
  },
  {
   "cell_type": "code",
   "execution_count": 29,
   "id": "1f447718-d369-4e83-a3d6-43f66628b14a",
   "metadata": {},
   "outputs": [
    {
     "name": "stdout",
     "output_type": "stream",
     "text": [
      "8\n"
     ]
    }
   ],
   "source": [
    "def gcd(int_list):\n",
    "    if not int_list:\n",
    "        return None\n",
    "    if len(int_list) == 1:\n",
    "        return int_list[0]\n",
    "    \n",
    "    def find_gcd(a, b):\n",
    "        while b:\n",
    "            a, b = b, a % b\n",
    "        return a\n",
    "    \n",
    "    result = int_list[0]\n",
    "    for i in range(1, len(int_list)):\n",
    "        result = find_gcd(result, int_list[i])\n",
    "    return result\n",
    "\n",
    "int_list = [8, 16, 24]\n",
    "print(gcd(int_list))"
   ]
  },
  {
   "cell_type": "markdown",
   "id": "0c367c3a-3340-49a7-89ab-2b45872a08ce",
   "metadata": {},
   "source": [
    "# How to convert a number from decimal to binary using recursion"
   ]
  },
  {
   "cell_type": "code",
   "execution_count": 21,
   "id": "9a6e6a36-fc93-4e44-9775-631befec8db7",
   "metadata": {},
   "outputs": [
    {
     "name": "stdout",
     "output_type": "stream",
     "text": [
      "1110000\n"
     ]
    }
   ],
   "source": [
    "def decimalToBinary(n):\n",
    "    assert int(n) == n , 'The exponent must be integer number only'\n",
    "\n",
    "    if n == 0:\n",
    "        return 0\n",
    "\n",
    "    else:\n",
    "        return n % 2 + 10 * decimalToBinary(int(n/2))\n",
    "\n",
    "print(decimalToBinary(112))"
   ]
  },
  {
   "cell_type": "markdown",
   "id": "ce208054-a552-49bc-b1d5-54768b1a647c",
   "metadata": {},
   "source": [
    "# How can you write a function compute_deviation that takes in a list of dictionaries with a key and list of integers and returns a dictionary with the standard deviation of each list?"
   ]
  },
  {
   "cell_type": "code",
   "execution_count": 6,
   "id": "0df303f6-0dfb-445b-95b1-173544bd0ce5",
   "metadata": {},
   "outputs": [],
   "source": [
    "def compute_deviation(input):\n",
    "    output = {}\n",
    "    for item in input:\n",
    "        key = item['key']\n",
    "        values = item['values']\n",
    "        mean = sum(values) / len(values)\n",
    "        squared_diff_sum = sum((x - mean) ** 2 for x in values)\n",
    "        variance = squared_diff_sum / (len(values) - 1)\n",
    "        std_deviation = variance ** 0.5\n",
    "        output[key] = round(std_deviation, 2)\n",
    "    return output"
   ]
  },
  {
   "cell_type": "markdown",
   "id": "780ed119-e43f-4f43-af8c-e7c1d6dc9f28",
   "metadata": {},
   "source": [
    "# 10. Given two sorted lists, how can you write a function to merge them into one sorted list?"
   ]
  },
  {
   "cell_type": "code",
   "execution_count": 8,
   "id": "1f08fa8d-4595-4059-9841-c9458b8adac4",
   "metadata": {},
   "outputs": [
    {
     "name": "stdout",
     "output_type": "stream",
     "text": [
      "[1, 2, 2, 4, 5, 6, 7]\n"
     ]
    }
   ],
   "source": [
    "def merge_lists(list1, list2):\n",
    "    merged_list = []\n",
    "    i, j = 0, 0\n",
    "    while i < len(list1) and j < len(list2):\n",
    "        if list1[i] <= list2[j]:\n",
    "            merged_list.append(list1[i])\n",
    "            i += 1\n",
    "        else:\n",
    "            merged_list.append(list2[j])\n",
    "            j += 1\n",
    "    merged_list.extend(list1[i:])\n",
    "    merged_list.extend(list2[j:])\n",
    "    return merged_list\n",
    "\n",
    "list1 = [1, 3, 5,7]\n",
    "list2 = [2, 4, 6]\n",
    "print(merge_lists(list1, list2))  # Output: [1, 2, 2, 4, 5, 6]"
   ]
  },
  {
   "cell_type": "markdown",
   "id": "f66e96b2-329b-4ee9-9f63-a094210257fb",
   "metadata": {},
   "source": [
    "#  implement Kadane's algorithm to find the maximum subarray sum. "
   ]
  },
  {
   "cell_type": "code",
   "execution_count": 30,
   "id": "5d47d19b-abd5-4eb4-b530-3808020631a4",
   "metadata": {},
   "outputs": [
    {
     "name": "stdout",
     "output_type": "stream",
     "text": [
      "6\n"
     ]
    }
   ],
   "source": [
    "def max_subarray_sum(a):\n",
    "    max_so_far = 0\n",
    "    max_ending_here = 0\n",
    "\n",
    "    for i in range(len(a)):\n",
    "        max_ending_here = max(0, max_ending_here + a[i])\n",
    "        max_so_far = max(max_so_far, max_ending_here)\n",
    "\n",
    "    return max_so_far\n",
    "\n",
    "array = [-2, 1, -3, 4, -1, 2, 1, -5, 4]\n",
    "print(max_subarray_sum(array))\n"
   ]
  },
  {
   "cell_type": "markdown",
   "id": "7813d354-20cf-42a8-bdbb-52b6bd702a6b",
   "metadata": {},
   "source": [
    "# bubble sort algorithm"
   ]
  },
  {
   "cell_type": "code",
   "execution_count": 31,
   "id": "85debd36-f1fc-46ab-bafe-a5368c781017",
   "metadata": {},
   "outputs": [
    {
     "name": "stdout",
     "output_type": "stream",
     "text": [
      "Sorted array is: [11, 12, 22, 25, 34, 64, 90]\n"
     ]
    }
   ],
   "source": [
    "def bubble_sort(a):\n",
    "    for i in range(len(a) - 1):\n",
    "        for j in range(len(a) - i - 1):\n",
    "            if a[j] > a[j + 1]:\n",
    "                a[j], a[j + 1] = a[j + 1], a[j]\n",
    "\n",
    "# Example usage:\n",
    "my_list = [64, 34, 25, 12, 22, 11, 90]\n",
    "bubble_sort(my_list)\n",
    "print(\"Sorted array is:\", my_list)"
   ]
  },
  {
   "cell_type": "markdown",
   "id": "e01139af-1586-447d-a959-b40a7e98cf9e",
   "metadata": {},
   "source": [
    "# check whether a given string is a palindrome"
   ]
  },
  {
   "cell_type": "code",
   "execution_count": 32,
   "id": "8507f090-1a20-4775-b874-36f8a6f38dc2",
   "metadata": {},
   "outputs": [
    {
     "name": "stdout",
     "output_type": "stream",
     "text": [
      "True\n",
      "False\n"
     ]
    }
   ],
   "source": [
    "def is_palindrome(string):\n",
    "\n",
    "    string = string.lower()\n",
    "\n",
    "    left = 0\n",
    "\n",
    "    right = len(string) - 1\n",
    "\n",
    "    while left < right:\n",
    "\n",
    "        if string[left] != string[right]:\n",
    "\n",
    "            return False\n",
    "\n",
    "        left += 1\n",
    "\n",
    "        right -= 1\n",
    "\n",
    "    return True\n",
    "\n",
    "print(is_palindrome(\"racecar\"))  # Output: True\n",
    "print(is_palindrome(\"hello\"))    # Output: False"
   ]
  },
  {
   "cell_type": "code",
   "execution_count": 33,
   "id": "22b51326-8d26-4b9e-bca3-e77cb3007e55",
   "metadata": {},
   "outputs": [],
   "source": [
    "def is_palindrome(string):\n",
    "\n",
    "    string = string.lower()\n",
    "\n",
    "    reversed_string = string[::-1]\n",
    "\n",
    "    return string == reversed_string"
   ]
  },
  {
   "cell_type": "markdown",
   "id": "80b8920d-a729-40d6-8b0b-fd66ecd7fb6e",
   "metadata": {},
   "source": [
    "# find two numbers in an array that sum up to a given target sum"
   ]
  },
  {
   "cell_type": "code",
   "execution_count": 34,
   "id": "0146d50f-77db-4641-bf4b-722ae6768cc0",
   "metadata": {},
   "outputs": [
    {
     "name": "stdout",
     "output_type": "stream",
     "text": [
      "The two numbers are: 4 and 3\n"
     ]
    }
   ],
   "source": [
    "def find_two_numbers_with_sum(array, target_sum):\n",
    "\n",
    "    seen = set()\n",
    "\n",
    "    for number in array:\n",
    "\n",
    "        complement = target_sum - number\n",
    "\n",
    "        if complement in seen:\n",
    "\n",
    "            return (number, complement)\n",
    "\n",
    "        seen.add(number)\n",
    "\n",
    "    return None\n",
    "\n",
    "array = [1, 2, 3, 4, 5]\n",
    "target_sum = 7\n",
    "result = find_two_numbers_with_sum(array, target_sum)\n",
    "if result:\n",
    "    print(f\"The two numbers are: {result[0]} and {result[1]}\")\n",
    "else:\n",
    "    print(\"No such pair exists.\")"
   ]
  },
  {
   "cell_type": "code",
   "execution_count": null,
   "id": "47e2e73b-07e5-48fd-ba28-442dec29e2fa",
   "metadata": {},
   "outputs": [],
   "source": []
  }
 ],
 "metadata": {
  "kernelspec": {
   "display_name": "Python 3 (ipykernel)",
   "language": "python",
   "name": "python3"
  },
  "language_info": {
   "codemirror_mode": {
    "name": "ipython",
    "version": 3
   },
   "file_extension": ".py",
   "mimetype": "text/x-python",
   "name": "python",
   "nbconvert_exporter": "python",
   "pygments_lexer": "ipython3",
   "version": "3.11.0"
  }
 },
 "nbformat": 4,
 "nbformat_minor": 5
}
