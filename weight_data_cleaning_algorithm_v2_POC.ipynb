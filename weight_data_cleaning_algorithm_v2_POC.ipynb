{
 "cells": [
  {
   "cell_type": "markdown",
   "id": "80e0b213",
   "metadata": {},
   "source": [
    "<h2><center> <font color=grey>Weight Data Cleaning Algorithm - </font> <font color=#F36E31>Version 2</font> </center></h2>\n",
    "<font color=#474747><center> <font color=#F36E31>Metabolic </font>( Weight Management ) </center></font>\n",
    "<font color=#474747><center> Team - Data Science | April 2023 - May 2023 |  By -   Sofia & Paritosh</center></font>\n",
    "\n",
    "\n",
    "\n",
    "\n",
    "<font color= #F36E31> **1. BUSINESS PROBLEM**</font>\n",
    "\n",
    "<img src=\"static_files/business_problem.png\" alt=\"Image Title\" style=\"display:block; margin-left:auto; margin-right:auto; margin-top:auto; margin-bottom:auto;max-width:800px;\">\n",
    "\n",
    "- <font color=#474747> For Weight Management , Dario smart scale and app do not currently support the ability to differentiate weight measurements for multiple users sharing the same scale.</font>\n",
    "\n",
    "- <font color=#474747> The weight data is currently not reliable due to these limitations, resulting in our inability to deliver accurate and reliable reports, monitor weight progress and make informed decisions based on it.</font>\n",
    "\n",
    "\n",
    "\n",
    "\n",
    "\n",
    "<font color= #F36E31> **2. PROBLEM STATEMENT**</font>\n",
    "\n",
    "<font color=#474747>In order to get reliable data,</font>\n",
    "- <font color=#474747>Detect and Mark the weight measurements as valid or invalid.</font>\n",
    "- <font color=#474747>Detect Other unusual patterns and anomalies.</font>\n",
    "- <font color=#474747>Detect whether multiple users are using same scale and map the measurements to the identified users.</font>\n",
    "\n",
    "\n",
    "\n",
    "<font color=#F36E31> **Version 1.0 :** </font>\n",
    "\n",
    "- <font color =#474747>In Version 1.0,</font>\n",
    "\n",
    "    - <font color=#474747>We attempted a purely <font color=#F36E31>statistical approach</font> to detect invalid measurements.</font>\n",
    "    \n",
    "    - <font color=#474747> We also employed machine learning algorithms, such as clustering, to identify multiple users and group their measurements.</font>\n",
    "    \n",
    "    - <font color=#474747>Additionally, we implemented a few other logics to identify unusual patterns.</font>\n",
    "\n",
    "\n",
    "- <font color=#474747>All considered weight thresholds, including the lower weight limit, upper weight limit, and weight fluctuations, are based on analysis.</font>\n",
    "\n",
    "\n",
    "- <font color=#474747>Important Sources/Links</font>\n",
    "\n",
    "    - <font color=#474747>Confluence Page - [Anomaly Detection in Weight Measurements](https://dariosw.atlassian.net/l/cp/G13A5c8v) | Airflow GitHub - [data-airflow/dags/weight_management_ad](https://github.com/myDario/data-airflow/tree/main/dags/weight_management_ad)</font>\n",
    "\n",
    "\n",
    "\n",
    "\n",
    "<font color=#F36E31> **Version 2.0 :** </font>\n",
    "\n",
    "<font color=#474747>Version 2.0 is a rule based cleaning algorithm,  mainly involves a combination of business logics and clinical approaches.</font>\n",
    "\n",
    "- <font color=#474747>In this version,</font>\n",
    "    - <font color=#474747>The weight data cleaning is primarily focused for a single user.</font>\n",
    "    \n",
    "    - <font color=#474747>The primary user among the multiple users has been identified based on the first reference weight shared by the users.</font>\n",
    "    \n",
    "    <img src=\"static_files/‎profile_page.png\" alt=\"Profile Page\" style=\"display:block; margin-left:auto; margin-right:auto; margin-top:auto; margin-bottom:auto;max-width:800px;\">\n",
    "\n",
    "    - <font color=#474747>Considering the first reference weight as the weight shared by the primary user, first valid weight is selected.</font>\n",
    "    \n",
    "    - <font color=#474747> Using the first valid weight as a reference, we compare percentage changes within a specific gap for each new weight entry. Based on whether the changes fall within clinically acceptable ranges, valid or invalid weights are marked.</font>\n",
    "    \n",
    "\n",
    "\n",
    "\n",
    "\n",
    "\n",
    "\n",
    "<h4><font color=#F36E31>3. DATA DESCRIPTION</font></h4>\n",
    "\n",
    "- <font color=#474747>Important Tables - <font color=#3585ae>Snowflake</font> :</font>\n",
    "    - <font color=#4747467>PHI_DB.BKND_SEARCHSTAT.EVENT_WEIGHTCHANGEEVENT:\n",
    "        - Weight measurements data of the users.</font>\n",
    "    \n",
    "    - <font color=#4747467>DWH.REPORTS.b2b2c_eligiblity:\n",
    "        - For B2B users' information.</font>\n",
    "    \n",
    "    - <font color=#4747467>PHI_DB.BKND_SEARCHSTAT.EVENT_STATICDATACHANGEEVENT:\n",
    "        - Reference weight data updated on the profile page. Confluence Page : [Version 4.3.0 Static Data](https://dariosw.atlassian.net/l/cp/a9kXMAUK)</font>\n",
    "    \n",
    "    \n",
    "\n",
    "\n",
    "\n",
    "<h4><font color=#F36E31>4. EVALUATION / PERFORMANCE METRIC</font></h4>\n",
    "\n",
    "- <font color=#474747>Required : Accuracy and Confusion Matrix</font> \n",
    "\n",
    "    <font color=#474747>Due to the unavailability of a labeled dataset, the performance of the algorithm has been evaluated manually.</font>\n",
    "    \n",
    "    \n",
    "- <font color=#474747> Source: Tableau Report ( Prepared after evaluation ) - [weight_data_cleaning_algorithm_v2.3](https://reports.dariocare.com/#/workbooks/325)</font>\n",
    "\n",
    "\n",
    "\n",
    "\n",
    "\n",
    "\n",
    "<h4><font color=#F36E31>5. BUSINESS CONSTRAINTS</font></h4>\n",
    "\n",
    "- <font color=#474747> Users with less than 5 measurements should not be considered.</font>\n",
    "- <font color=#474747> Only smart scale measurements should be considered.</font>\n",
    "- <font color=#474747> ≥ 90% Cleaned Users are required.</font>\n",
    "\n",
    "- <font color=#474747>Excessive cleaning or removing weight measurements can result in the loss of activity data, making it difficult to track weight progress and potentially leading to billing issues.</font>\n",
    "\n",
    "- <font color=#474747>Selection of first valid weight is important. This can be directly used as a baseline weight for PG Analysis.</font>\n",
    "\n",
    "\n",
    "\n",
    "<h4><font color=#F36E31>6. IMPLEMENTATION</font></h4>\n",
    "\n",
    "<h4><font color=#F36E31>6.1 IMPORTING REQUIRED MODULES</font></h4>"
   ]
  },
  {
   "cell_type": "code",
   "execution_count": 1,
   "id": "9779eb3a",
   "metadata": {},
   "outputs": [
    {
     "name": "stdout",
     "output_type": "stream",
     "text": [
      "Python version: 3 . 8 . 0\n",
      "Pandas version: 1.3.4\n",
      "NumPy version: 1.21.4\n",
      "Seaborn version: 0.11.2\n",
      "Matplotlib version: 3.5.0\n"
     ]
    }
   ],
   "source": [
    "# For Data Wrangling\n",
    "import pandas as pd\n",
    "import numpy as np\n",
    "from datetime import timedelta\n",
    "\n",
    "# For Visualization\n",
    "import seaborn as sns\n",
    "import matplotlib\n",
    "import matplotlib.pyplot as plt\n",
    "\n",
    "# To Fetch Data from Snowflake\n",
    "import snowflake.connector \n",
    "\n",
    "import json \n",
    "import sys\n",
    "import time\n",
    "import logging\n",
    "import warnings \n",
    "warnings.filterwarnings('ignore')\n",
    "\n",
    "# Checking Versions\n",
    "print(\"Python version:\", sys.version_info.major, \".\", sys.version_info.minor, \".\", sys.version_info.micro)\n",
    "print(\"Pandas version:\", pd.__version__)\n",
    "print(\"NumPy version:\", np.__version__)\n",
    "print(\"Seaborn version:\", sns.__version__)\n",
    "print(\"Matplotlib version:\", matplotlib.__version__)\n",
    "\n",
    "logging.basicConfig(level=logging.INFO)\n",
    "logger = logging.getLogger(__name__) "
   ]
  },
  {
   "cell_type": "code",
   "execution_count": 2,
   "id": "4bac8ba5",
   "metadata": {},
   "outputs": [],
   "source": [
    "logging.basicConfig(level=logging.INFO)\n",
    "logger = logging.getLogger(__name__)"
   ]
  },
  {
   "cell_type": "code",
   "execution_count": 5,
   "id": "a4a78e62",
   "metadata": {},
   "outputs": [
    {
     "name": "stdout",
     "output_type": "stream",
     "text": [
      "/Users/Paritosh.Mahto/Desktop/anomaly_detection_v2\n"
     ]
    }
   ],
   "source": [
    "cd .."
   ]
  },
  {
   "cell_type": "markdown",
   "id": "dd0144e1",
   "metadata": {},
   "source": [
    "<h4><font color=#F36E31>6.2 EXPORTING DATA FROM SNOWFLAKE BY EXECUTING QUERIES.</font></h4>"
   ]
  },
  {
   "cell_type": "code",
   "execution_count": 6,
   "id": "1dc658be",
   "metadata": {},
   "outputs": [],
   "source": [
    "with open(\"scripts/config/snowflake_credentials.json\", 'r') as json_file:\n",
    "    conns = json.load(json_file)"
   ]
  },
  {
   "cell_type": "code",
   "execution_count": 7,
   "id": "f9c3fab8",
   "metadata": {},
   "outputs": [],
   "source": [
    "conns['SnowflakeDB'][\"UserName\"] = 'paritosh.mahto@wayforward.io'\n",
    "conns['SnowflakeDB'][\"Password\"] = 'Ryspeh-reggoq-wumci2'"
   ]
  },
  {
   "cell_type": "code",
   "execution_count": 8,
   "id": "9caed649",
   "metadata": {},
   "outputs": [
    {
     "name": "stderr",
     "output_type": "stream",
     "text": [
      "INFO:snowflake.connector.connection:Snowflake Connector for Python Version: 2.9.0, Python Version: 3.8.0, Platform: macOS-10.16-x86_64-i386-64bit\n",
      "INFO:snowflake.connector.connection:This connection is in OCSP Fail Open Mode. TLS Certificates would be checked for validity and revocation status. Any other Certificate Revocation related exceptions or OCSP Responder failures would be disregarded in favor of connectivity.\n",
      "INFO:snowflake.connector.connection:Setting use_openssl_only mode to False\n"
     ]
    }
   ],
   "source": [
    "connection = snowflake.connector.connect( \n",
    "    user=conns['SnowflakeDB']['UserName'],\n",
    "    password=conns['SnowflakeDB']['Password'],\n",
    "    account=conns['SnowflakeDB']['Host'],\n",
    "    warehouse = conns[\"SnowflakeDB\"][\"Warehouse\"]\n",
    ")"
   ]
  },
  {
   "cell_type": "code",
   "execution_count": 9,
   "id": "57eb6407",
   "metadata": {},
   "outputs": [
    {
     "name": "stderr",
     "output_type": "stream",
     "text": [
      "INFO:snowflake.connector.cursor:query: [SELECT s.UID, s.DEVICEUTC, s.VALUE, s.PROPERTYID FROM \"PHI_DB\".\"BKND_SEARCHSTAT\"...]\n",
      "INFO:snowflake.connector.cursor:query execution done\n",
      "INFO:snowflake.connector.cursor:Number of results in first chunk: 3480\n"
     ]
    }
   ],
   "source": [
    "# For Reference Weight\n",
    "\n",
    "sql_1 = \"\"\" \n",
    "\n",
    "SELECT\n",
    "    s.UID,\n",
    "    s.DEVICEUTC,\n",
    "    s.VALUE,\n",
    "    s.PROPERTYID\n",
    "FROM\n",
    "    \"PHI_DB\".\"BKND_SEARCHSTAT\".\"EVENT_STATICDATACHANGEEVENT\" s\n",
    "JOIN\n",
    "    \"PHI_DB\".\"BKND_SEARCHSTAT\".\"EVENT_WEIGHTCHANGEEVENT\" w\n",
    "    ON s.UID = w.UID\n",
    "WHERE\n",
    "    s.PROPERTYID = 'fwgt'\n",
    "    AND s.UID IS NOT NULL\n",
    "GROUP BY\n",
    "    s.UID, s.DEVICEUTC, s.VALUE, s.PROPERTYID\n",
    "ORDER BY\n",
    "    s.UID;\n",
    "\"\"\"\n",
    "\n",
    "data_static = pd.read_sql_query(sql_1, con=connection, dtype={'VALUE': float})"
   ]
  },
  {
   "cell_type": "code",
   "execution_count": 11,
   "id": "1be117f7",
   "metadata": {},
   "outputs": [
    {
     "data": {
      "text/plain": [
       "UID                    int64\n",
       "DEVICEUTC     datetime64[ns]\n",
       "VALUE                float64\n",
       "PROPERTYID            object\n",
       "dtype: object"
      ]
     },
     "execution_count": 11,
     "metadata": {},
     "output_type": "execute_result"
    }
   ],
   "source": [
    "# checking data types\n",
    "data_static.dtypes"
   ]
  },
  {
   "cell_type": "code",
   "execution_count": 12,
   "id": "9c570603",
   "metadata": {},
   "outputs": [
    {
     "name": "stderr",
     "output_type": "stream",
     "text": [
      "INFO:snowflake.connector.cursor:query: [--  Data Preparation for Weight Data Cleaning Algorithm 2023-06-28 -- The object...]\n",
      "INFO:snowflake.connector.cursor:query execution done\n",
      "INFO:snowflake.connector.cursor:Number of results in first chunk: 1519\n"
     ]
    }
   ],
   "source": [
    "# Weight Measurements Data\n",
    "\n",
    "sql_2 = \"\"\"\n",
    "--  Data Preparation for Weight Data Cleaning Algorithm 2023-06-28 \n",
    "    -- The objective is to optimize the data preprocessing steps.\n",
    "    \n",
    "-- Mapping GROUP_NAME \n",
    "WITH WEIGHT_EVENT_WITH_GROUP_NAME AS (\n",
    "    SELECT\n",
    "        WEIGHT_EVENT.ID,\n",
    "        WEIGHT_EVENT.UID,\n",
    "        WEIGHT_EVENT.TRANSACTION_ID,\n",
    "        WEIGHT_EVENT.METADATA,\n",
    "        WEIGHT_EVENT.DEVICEUTC,\n",
    "        WEIGHT_EVENT.WEIGHTVALUE,\n",
    "        B2B2C_ELIGIBILITY.GROUP_NAME\n",
    "    FROM\n",
    "        \"PHI_DB\".\"BKND_SEARCHSTAT\".\"EVENT_WEIGHTCHANGEEVENT\" AS WEIGHT_EVENT\n",
    "    LEFT JOIN (\n",
    "        SELECT\n",
    "            UID,\n",
    "            GROUP_NAME,\n",
    "            ROW_NUMBER() OVER (PARTITION BY UID ORDER BY GROUP_NAME) AS ROW_NUM\n",
    "        FROM\n",
    "            \"DWH\".\"REPORTS\".\"b2b2c_eligiblity\"\n",
    "    ) AS B2B2C_ELIGIBILITY ON WEIGHT_EVENT.UID = B2B2C_ELIGIBILITY.UID\n",
    "        AND B2B2C_ELIGIBILITY.ROW_NUM = 1\n",
    "),\n",
    "\n",
    "--  Measurements Count per user\n",
    "ID_COUNT_PER_USER AS (\n",
    "    SELECT\n",
    "        UID,\n",
    "        COUNT(DISTINCT ID) AS MEASUREMENT_COUNT\n",
    "    FROM\n",
    "        \"PHI_DB\".\"BKND_SEARCHSTAT\".\"EVENT_WEIGHTCHANGEEVENT\"\n",
    "    GROUP BY\n",
    "        UID\n",
    ")\n",
    "\n",
    "-- Final Aggregation and transformation\n",
    "SELECT \n",
    "    t1.ID,\n",
    "    t1.UID,\n",
    "    t1.TRANSACTION_ID,\n",
    "    t1.DEVICEUTC,\n",
    "    t1.WEIGHTVALUE,\n",
    "    t1.GROUP_NAME,\n",
    "    CASE WHEN t1.GROUP_NAME IS NULL THEN 'B2C' ELSE 'B2B' END AS CLIENT_TYPE,\n",
    "    CASE WHEN t1.METADATA IS NULL THEN 'manually_inserted' ELSE 'smart_scale' END AS MEASUREMENT_TYPE,\n",
    "    CASE WHEN t2.MEASUREMENT_COUNT < 5 THEN TRUE ELSE FALSE END AS COUNT_LESS_THAN_5,\n",
    "    CASE WHEN t2.MEASUREMENT_COUNT > 5000 THEN TRUE ELSE FALSE END AS COUNT_MORE_THAN_5000,\n",
    "    CASE WHEN (t1.GROUP_NAME = 'union_pacific' AND t1.WEIGHTVALUE NOT BETWEEN 10 AND 300) OR t1.WEIGHTVALUE NOT BETWEEN 40 AND 300 THEN TRUE ELSE FALSE END AS WEIGHT_NOT_WITHIN_RANGE,\n",
    "    DATEDIFF(DAY, (SELECT MIN(DEVICEUTC) FROM WEIGHT_EVENT_WITH_GROUP_NAME WHERE UID = t1.UID), t1.DEVICEUTC) AS USAGE_DAY,\n",
    "    FLOOR(DATEDIFF(DAY, (SELECT MIN(DEVICEUTC) FROM WEIGHT_EVENT_WITH_GROUP_NAME WHERE UID = t1.UID), t1.DEVICEUTC) / 30) AS USAGE_MONTH\n",
    "FROM\n",
    "    WEIGHT_EVENT_WITH_GROUP_NAME t1\n",
    "    LEFT JOIN ID_COUNT_PER_USER t2 ON t1.UID = t2.UID ORDER BY UID, DEVICEUTC;\n",
    "\"\"\"\n",
    "data_raw = pd.read_sql_query(sql_2, con=connection)"
   ]
  },
  {
   "cell_type": "code",
   "execution_count": 13,
   "id": "2d3a391a",
   "metadata": {},
   "outputs": [
    {
     "name": "stdout",
     "output_type": "stream",
     "text": [
      "    -  Data Considered Till -  \n",
      "\n",
      "EVENT_STATICDATACHANGEEVENT: 2023-07-18 07:29:56 \n",
      "\n",
      "EVENT_WEIGHTCHANGEEVENT: 2023-07-18 07:29:56\n"
     ]
    }
   ],
   "source": [
    "print(\"    -  Data Considered Till -  \\n\" )\n",
    "\n",
    "print(\"EVENT_STATICDATACHANGEEVENT:\", data_static['DEVICEUTC'].max(), '\\n')\n",
    "\n",
    "print(\"EVENT_WEIGHTCHANGEEVENT:\" , data_raw['DEVICEUTC'].max())"
   ]
  },
  {
   "cell_type": "code",
   "execution_count": 14,
   "id": "23ef3aa1",
   "metadata": {},
   "outputs": [],
   "source": [
    "# Serializing SQL Query in .sql file\n",
    "filename = \"scripts/sql_query/data_preparation_query.sql\"\n",
    "\n",
    "with open(filename, \"w\") as file:\n",
    "    file.write(sql_2)"
   ]
  },
  {
   "cell_type": "markdown",
   "id": "d3535f98",
   "metadata": {},
   "source": [
    "-----\n",
    "\n",
    "<h4><font color=#F36E31>6.3 REFERENCE WEIGHT FIX</font></h4>\n",
    "\n",
    "- <font color=#474747> Since, self-shared weight values are frequently updated by the users and we don't have previously shared weights as these are overwritten in this table ```PHI_DB.BKND_SEARCHSTAT.EVENT_STATICDATACHANGEEVENT```  instability in the results have been observed.</font>\n",
    "- <font color=#474747>Cases when reference weights are updated:\n",
    "\n",
    "- When:\n",
    "  - User set weight in intake\n",
    "  - User update weight in profile page\n",
    "  - Upon registration if a user entered weight (some Enrollment flows)</font>\n",
    "\n",
    "\n",
    "- <font color=#474747> In order to fix the instability issue, this function has been created.</font>\n"
   ]
  },
  {
   "cell_type": "code",
   "execution_count": 15,
   "id": "9634eec5",
   "metadata": {},
   "outputs": [],
   "source": [
    "def reference_data_fix(updated_data, previous_data_filepath):\n",
    "    \"\"\"\n",
    "    Returns a dataframe with the required reference weight.\n",
    "\n",
    "    Argument(s):\n",
    "    updated_data: Latest data from \"PHI_DB\".\"BKND_SEARCHSTAT\".\"EVENT_STATICDATACHANGEEVENT\"\n",
    "    previous_data_filepath: File path of the previously saved data.\n",
    "    \"\"\"\n",
    "    start_time = time.time()\n",
    "    with open(previous_data_filepath) as json_file:\n",
    "        previous_data = pd.read_json(json_file, orient='split', dtype={'DEVICEUTC': 'datetime64'})\n",
    "\n",
    "    concatenated_data = pd.concat([updated_data, previous_data], axis=0)\n",
    "    concatenated_data = concatenated_data.sort_values(by=['UID', 'DEVICEUTC']).reset_index(drop=True)\n",
    "    concatenated_data_wo_duplicates = concatenated_data.drop_duplicates(subset=['UID', 'DEVICEUTC']).sort_values(by='UID')\n",
    "\n",
    "    condition = concatenated_data_wo_duplicates.groupby('UID')['DEVICEUTC'].idxmin()\n",
    "    required_reference_weight = concatenated_data_wo_duplicates.loc[condition]\n",
    "\n",
    "    concatenated_data_wo_duplicates['DEVICEUTC'] = concatenated_data_wo_duplicates['DEVICEUTC'].astype('str')\n",
    "    df_json = concatenated_data_wo_duplicates.to_json(orient=\"split\", index=False)\n",
    "\n",
    "    with open(previous_data_filepath, 'w') as json_file_updated:\n",
    "        json_file_updated.write(df_json)\n",
    "\n",
    "    elapsed_time = time.time() - start_time\n",
    "    logger.info(f\"Time taken to execute reference_data_fix: {round(elapsed_time, 2)} secs\")\n",
    "    return required_reference_weight"
   ]
  },
  {
   "cell_type": "code",
   "execution_count": 16,
   "id": "6a1d5bfe",
   "metadata": {},
   "outputs": [
    {
     "name": "stderr",
     "output_type": "stream",
     "text": [
      "INFO:__main__:Time taken to execute reference_data_fix: 3.74 secs\n"
     ]
    }
   ],
   "source": [
    "filepath = 'scripts/static_files/data_reference_wht.json'\n",
    "required_ref_wht = reference_data_fix(data_static, previous_data_filepath=filepath)"
   ]
  },
  {
   "cell_type": "code",
   "execution_count": 17,
   "id": "ae699e9f",
   "metadata": {},
   "outputs": [
    {
     "name": "stdout",
     "output_type": "stream",
     "text": [
      "<class 'pandas.core.frame.DataFrame'>\n",
      "Int64Index: 75834 entries, 0 to 165098\n",
      "Data columns (total 4 columns):\n",
      " #   Column      Non-Null Count  Dtype         \n",
      "---  ------      --------------  -----         \n",
      " 0   UID         75834 non-null  int64         \n",
      " 1   DEVICEUTC   75834 non-null  datetime64[ns]\n",
      " 2   VALUE       75830 non-null  float64       \n",
      " 3   PROPERTYID  75834 non-null  object        \n",
      "dtypes: datetime64[ns](1), float64(1), int64(1), object(1)\n",
      "memory usage: 2.9+ MB\n",
      "None\n"
     ]
    }
   ],
   "source": [
    "print(required_ref_wht.info())"
   ]
  },
  {
   "cell_type": "markdown",
   "id": "d07fb42f",
   "metadata": {},
   "source": [
    "- There can be null reference weight values."
   ]
  },
  {
   "cell_type": "markdown",
   "id": "eb9e6194",
   "metadata": {},
   "source": [
    "---\n",
    "<h4><font color=#F36E31>6.4 DATA PREPARATION</font></h4>\n"
   ]
  },
  {
   "cell_type": "code",
   "execution_count": 18,
   "id": "93b815e4",
   "metadata": {},
   "outputs": [],
   "source": [
    "def invalid_reference_weight_check(reference_weight):\n",
    "    \"\"\"\n",
    "    Returns a list of UIDs whose reference weight is less than the lower weight limit or NULL or 0.\n",
    "    \n",
    "    Argument(s):\n",
    "    reference_weight: Dataframe with Group Name and Reference Weight\n",
    "    \"\"\"\n",
    "    uid_null = reference_weight[(reference_weight['REFERENCE_WEIGHT'] == 0) | (reference_weight['REFERENCE_WEIGHT'].isnull())]['UID'].to_list()\n",
    "\n",
    "    reference_weight = reference_weight.dropna(subset=['REFERENCE_WEIGHT'])\n",
    "    reference_weight = reference_weight[reference_weight['REFERENCE_WEIGHT'] != 0]\n",
    "\n",
    "    df_grouped = reference_weight.groupby('UID').first().reset_index()\n",
    "    filtered_df = df_grouped[\n",
    "        (df_grouped['GROUP_NAME'] == 'union_pacific') & (df_grouped['REFERENCE_WEIGHT'].astype(float) <= 10) |\n",
    "        (df_grouped['GROUP_NAME'] != 'union_pacific') & (df_grouped['REFERENCE_WEIGHT'].astype(float) <= 40)\n",
    "    ]\n",
    "    uid_lt_lower_limit = filtered_df['UID'].tolist()\n",
    "\n",
    "    uid_list = uid_lt_lower_limit + uid_null\n",
    "\n",
    "    return uid_list"
   ]
  },
  {
   "cell_type": "code",
   "execution_count": 19,
   "id": "d27ff5c7",
   "metadata": {},
   "outputs": [],
   "source": [
    "def data_preparation(reference_weight_df, weight_measurements_df):\n",
    "    \"\"\"\n",
    "    Return four dataframes and one list\n",
    "    \n",
    "    Argument(s):\n",
    "    reference_weight_df: Dataframe with first reference weight of the user.\n",
    "    weight_measurements_df: Raw weight measurements data fetched from snowflake.\n",
    "    \"\"\"\n",
    "    start_time = time.time()\n",
    "    \n",
    "    weight_measurements_df = weight_measurements_df.merge(reference_weight_df[['UID', 'VALUE']], on='UID', how='left')\n",
    "    weight_measurements_df = weight_measurements_df.rename(columns={'VALUE':'REFERENCE_WEIGHT'})\n",
    "    \n",
    "    weight_measurements_less_than_5 = weight_measurements_df[weight_measurements_df['COUNT_LESS_THAN_5'] == True].reset_index(drop=True)\n",
    "    weight_measurements_more_than_5000 = weight_measurements_df[weight_measurements_df['COUNT_MORE_THAN_5000'] == True].reset_index(drop=True)\n",
    "    weight_measurements_valid = weight_measurements_df[(weight_measurements_df['COUNT_LESS_THAN_5'] == False) & (weight_measurements_df['COUNT_MORE_THAN_5000'] == False)].reset_index(drop=True)\n",
    "\n",
    "    weight_measurements_valid['ABS_DIFF'] = np.abs(weight_measurements_valid['WEIGHTVALUE'].astype(float) - weight_measurements_valid['REFERENCE_WEIGHT'].astype(float))\n",
    "\n",
    "    condition_1 = (weight_measurements_valid['MEASUREMENT_TYPE'] == 'smart_scale')\n",
    "    condition_2 = (weight_measurements_valid[\"WEIGHT_NOT_WITHIN_RANGE\"] == False)\n",
    "\n",
    "    valid_measurements_filtered_1 = weight_measurements_valid.loc[condition_1]\n",
    "    valid_measurements_filtered_2 = valid_measurements_filtered_1.loc[condition_2].reset_index(drop=True)\n",
    "\n",
    "    invalid_reference_weight_uids = invalid_reference_weight_check(valid_measurements_filtered_2)\n",
    "\n",
    "    elapsed_time = time.time() - start_time\n",
    "    logger.info(f\"\\nTime taken to perform data_preparation: {round(elapsed_time, 2)} secs\")\n",
    "\n",
    "    return weight_measurements_less_than_5, weight_measurements_valid, weight_measurements_more_than_5000, valid_measurements_filtered_2, invalid_reference_weight_uids\n"
   ]
  },
  {
   "cell_type": "code",
   "execution_count": 21,
   "id": "84ab7d6c",
   "metadata": {},
   "outputs": [
    {
     "name": "stderr",
     "output_type": "stream",
     "text": [
      "INFO:__main__:\n",
      "Time taken to perform data_preparation: 1.01 secs\n"
     ]
    }
   ],
   "source": [
    "( user_w_less_than_5_measures,\n",
    "        valid_users_measures,\n",
    "        user_w_more_than_5000_measures,\n",
    "        valid_measurements_filtered_2,\n",
    "        invalid_reference_weight_uids,\n",
    "    ) = data_preparation(reference_weight_df=required_ref_wht, weight_measurements_df=data_raw) "
   ]
  },
  {
   "cell_type": "code",
   "execution_count": 22,
   "id": "6cd589a5",
   "metadata": {},
   "outputs": [
    {
     "data": {
      "text/plain": [
       "Index(['ID', 'UID', 'TRANSACTION_ID', 'DEVICEUTC', 'WEIGHTVALUE', 'GROUP_NAME',\n",
       "       'CLIENT_TYPE', 'MEASUREMENT_TYPE', 'COUNT_LESS_THAN_5',\n",
       "       'COUNT_MORE_THAN_5000', 'WEIGHT_NOT_WITHIN_RANGE', 'USAGE_DAY',\n",
       "       'USAGE_MONTH', 'REFERENCE_WEIGHT', 'ABS_DIFF'],\n",
       "      dtype='object')"
      ]
     },
     "execution_count": 22,
     "metadata": {},
     "output_type": "execute_result"
    }
   ],
   "source": [
    "valid_users_measures.columns"
   ]
  },
  {
   "cell_type": "markdown",
   "id": "4dc393c9",
   "metadata": {},
   "source": [
    "---\n",
    "<h4><font color=#F36E31>6.4 SELECTION OF FIRST VALID WEIGHT [ Weight closest to the Reference Weight ]</font></h4>\n"
   ]
  },
  {
   "cell_type": "code",
   "execution_count": 25,
   "id": "77fd1e15",
   "metadata": {},
   "outputs": [],
   "source": [
    "def lower_limit_wht_fix(filtered_data, first_valid_weight, uid_list):\n",
    "    \"\"\"\n",
    "    Returns a dataframe with fixed first valid weight\n",
    "    \n",
    "    Argument(s):\n",
    "    filtered_data: Filtered dataframe with valid weights only.\n",
    "    first_valid_weight: Dataframe with first valid weight in user with reference weight needs to be fixed.\n",
    "    uid_list: Users whose reference weight is less than lower weight limit.\n",
    "    \"\"\"\n",
    "    columns = ['ID', 'UID', 'GROUP_NAME', 'DEVICEUTC', 'WEIGHTVALUE', 'REFERENCE_WEIGHT', 'ABS_DIFF']\n",
    "    \n",
    "    filtered_data = filtered_data[filtered_data['UID'].isin(uid_list)]\n",
    "    first_valid_weight = first_valid_weight[~first_valid_weight['UID'].isin(uid_list)][columns]\n",
    "    \n",
    "    first_day_df = filtered_data.loc[filtered_data.groupby('UID')['USAGE_DAY'].idxmin()][columns]\n",
    "    first_valid_weight_fixed = first_day_df.loc[first_day_df.groupby('UID')['WEIGHTVALUE'].idxmax()]\n",
    "    \n",
    "    first_valid_weight = pd.concat([first_valid_weight, first_valid_weight_fixed], ignore_index=True)\n",
    "    \n",
    "    return first_valid_weight"
   ]
  },
  {
   "cell_type": "markdown",
   "id": "73bb312b",
   "metadata": {},
   "source": [
    "<font color=#F36E31>APPROACH-1</font>\n",
    "\n",
    "- <font color=#474747> Out of first five weights , weight which is closest to the Reference Weight will be considered as **First Valid Weight**.</font>\n"
   ]
  },
  {
   "cell_type": "code",
   "execution_count": 26,
   "id": "a9785545",
   "metadata": {},
   "outputs": [],
   "source": [
    "def first_valid_weight_selection_using_approach_1(filtered_data, uid_list):\n",
    "    \"\"\"\n",
    "    Returns a dataframe with first valid weight using approach - 1.\n",
    "    \n",
    "    Argument(s):\n",
    "    filtered_data: Filtered dataframe with valid weights only.\n",
    "    uid_list: Users whose reference weight is less than lower weight limit.\n",
    "    \"\"\"\n",
    "    start_time = time.time()\n",
    "    \n",
    "    filtered_data = filtered_data.sort_values(by=['UID', 'DEVICEUTC']).reset_index(drop=True)\n",
    "    filtered_data['MEASURES'] = filtered_data.groupby('UID').cumcount() + 1\n",
    "    \n",
    "    filtered_data_less_than_5 = filtered_data[filtered_data['MEASURES'] <= 5].reset_index(drop=True)\n",
    "    first_valid_weight = filtered_data_less_than_5.loc[filtered_data_less_than_5.groupby('UID')['ABS_DIFF'].idxmin()]\n",
    "    \n",
    "    first_valid_weight_fixed = lower_limit_wht_fix(filtered_data, first_valid_weight, uid_list)\n",
    "    first_valid_weight_fixed = first_valid_weight_fixed.rename(columns={'WEIGHTVALUE': 'FIRST_VALID_WEIGHT'})\n",
    "    \n",
    "    elapsed_time = time.time() - start_time\n",
    "    logger.info(f\"\\nTime taken to execute first_valid_weight_selection_using_approach_1: {round(elapsed_time, 2)} secs\")\n",
    "    \n",
    "    return first_valid_weight_fixed\n"
   ]
  },
  {
   "cell_type": "code",
   "execution_count": 27,
   "id": "f5228961",
   "metadata": {},
   "outputs": [
    {
     "name": "stderr",
     "output_type": "stream",
     "text": [
      "INFO:__main__:\n",
      "Time taken to execute first_valid_weight_selection_using_approach_1: 0.49 secs\n"
     ]
    }
   ],
   "source": [
    "first_valid_weight_1 = first_valid_weight_selection_using_approach_1(filtered_data=valid_measurements_filtered_2,\n",
    "                                                                    uid_list=invalid_reference_weight_uids)"
   ]
  },
  {
   "cell_type": "code",
   "execution_count": 28,
   "id": "a9686067",
   "metadata": {},
   "outputs": [
    {
     "data": {
      "text/html": [
       "<div>\n",
       "<style scoped>\n",
       "    .dataframe tbody tr th:only-of-type {\n",
       "        vertical-align: middle;\n",
       "    }\n",
       "\n",
       "    .dataframe tbody tr th {\n",
       "        vertical-align: top;\n",
       "    }\n",
       "\n",
       "    .dataframe thead th {\n",
       "        text-align: right;\n",
       "    }\n",
       "</style>\n",
       "<table border=\"1\" class=\"dataframe\">\n",
       "  <thead>\n",
       "    <tr style=\"text-align: right;\">\n",
       "      <th></th>\n",
       "      <th>ID</th>\n",
       "      <th>UID</th>\n",
       "      <th>GROUP_NAME</th>\n",
       "      <th>DEVICEUTC</th>\n",
       "      <th>FIRST_VALID_WEIGHT</th>\n",
       "      <th>REFERENCE_WEIGHT</th>\n",
       "      <th>ABS_DIFF</th>\n",
       "    </tr>\n",
       "  </thead>\n",
       "  <tbody>\n",
       "    <tr>\n",
       "      <th>0</th>\n",
       "      <td>1214893</td>\n",
       "      <td>172</td>\n",
       "      <td>None</td>\n",
       "      <td>2021-06-23 14:25:40</td>\n",
       "      <td>68.23</td>\n",
       "      <td>68.23000</td>\n",
       "      <td>0.00000</td>\n",
       "    </tr>\n",
       "    <tr>\n",
       "      <th>1</th>\n",
       "      <td>1201724</td>\n",
       "      <td>18325</td>\n",
       "      <td>None</td>\n",
       "      <td>2021-05-25 20:55:04</td>\n",
       "      <td>70.66</td>\n",
       "      <td>67.00000</td>\n",
       "      <td>3.66000</td>\n",
       "    </tr>\n",
       "    <tr>\n",
       "      <th>2</th>\n",
       "      <td>1138800</td>\n",
       "      <td>21711</td>\n",
       "      <td>None</td>\n",
       "      <td>2020-11-26 08:18:30</td>\n",
       "      <td>66.83</td>\n",
       "      <td>67.31311</td>\n",
       "      <td>0.48311</td>\n",
       "    </tr>\n",
       "    <tr>\n",
       "      <th>3</th>\n",
       "      <td>1134331</td>\n",
       "      <td>45642</td>\n",
       "      <td>None</td>\n",
       "      <td>2020-11-25 13:44:35</td>\n",
       "      <td>69.11</td>\n",
       "      <td>69.10000</td>\n",
       "      <td>0.01000</td>\n",
       "    </tr>\n",
       "    <tr>\n",
       "      <th>4</th>\n",
       "      <td>1182072</td>\n",
       "      <td>56298</td>\n",
       "      <td>None</td>\n",
       "      <td>2021-04-07 12:29:47</td>\n",
       "      <td>130.36</td>\n",
       "      <td>121.18000</td>\n",
       "      <td>9.18000</td>\n",
       "    </tr>\n",
       "  </tbody>\n",
       "</table>\n",
       "</div>"
      ],
      "text/plain": [
       "        ID    UID GROUP_NAME           DEVICEUTC  FIRST_VALID_WEIGHT  \\\n",
       "0  1214893    172       None 2021-06-23 14:25:40               68.23   \n",
       "1  1201724  18325       None 2021-05-25 20:55:04               70.66   \n",
       "2  1138800  21711       None 2020-11-26 08:18:30               66.83   \n",
       "3  1134331  45642       None 2020-11-25 13:44:35               69.11   \n",
       "4  1182072  56298       None 2021-04-07 12:29:47              130.36   \n",
       "\n",
       "   REFERENCE_WEIGHT  ABS_DIFF  \n",
       "0          68.23000   0.00000  \n",
       "1          67.00000   3.66000  \n",
       "2          67.31311   0.48311  \n",
       "3          69.10000   0.01000  \n",
       "4         121.18000   9.18000  "
      ]
     },
     "execution_count": 28,
     "metadata": {},
     "output_type": "execute_result"
    }
   ],
   "source": [
    "first_valid_weight_1.head()"
   ]
  },
  {
   "cell_type": "markdown",
   "id": "dbf7dffa",
   "metadata": {},
   "source": [
    "<font color=#F36E31>APPROACH-2</font>\n",
    "\n",
    "- <font color=#474747>Out of  first five weights of the first usage month , weight which is closest to the Reference Weight will be considered as **First Valid Weight**.</font>"
   ]
  },
  {
   "cell_type": "code",
   "execution_count": 30,
   "id": "5d275343",
   "metadata": {},
   "outputs": [],
   "source": [
    "def first_valid_weight_selection_using_approach_2(filtered_data, uid_list):\n",
    "    \"\"\"\n",
    "    Returns a dataframe with first valid weight using approach - 2.\n",
    "    \n",
    "    Argument(s):\n",
    "    filtered_data: Filtered dataframe with valid weights only.\n",
    "    uid_list: Users whose reference weight is less than lower weight limit.\n",
    "    \"\"\"\n",
    "    start_time = time.time()\n",
    "    \n",
    "    min_usage_month = filtered_data.groupby('UID')['USAGE_MONTH'].min()\n",
    "    uid_month_map = min_usage_month.to_dict()  \n",
    "    \n",
    "    filtered_data_first_valid_month = filtered_data.copy()\n",
    "    filtered_data_first_valid_month['VALID_MONTH'] = filtered_data_first_valid_month['UID'].map(uid_month_map) == filtered_data_first_valid_month['USAGE_MONTH']\n",
    "\n",
    "    filtered_data_first_valid_month = filtered_data_first_valid_month[filtered_data_first_valid_month['VALID_MONTH']]\n",
    "\n",
    "    filtered_data_first_valid_month = filtered_data_first_valid_month.sort_values(by=['UID', 'DEVICEUTC']).reset_index(drop=True)\n",
    "    filtered_data_first_valid_month['MEASURES'] = filtered_data_first_valid_month.groupby('UID').cumcount() + 1\n",
    "\n",
    "    filtered_data_less_than_5 = filtered_data_first_valid_month[filtered_data_first_valid_month['MEASURES'] <= 5].reset_index(drop=True)\n",
    "    \n",
    "    first_valid_weight = filtered_data_less_than_5.loc[filtered_data_less_than_5.groupby('UID')['ABS_DIFF'].idxmin()]\n",
    "    \n",
    "    first_valid_weight_fixed = lower_limit_wht_fix(filtered_data, first_valid_weight, uid_list)\n",
    "    first_valid_weight_fixed = first_valid_weight_fixed.rename(columns={'WEIGHTVALUE': 'FIRST_VALID_WEIGHT'})\n",
    "   \n",
    "    elapsed_time = time.time() - start_time\n",
    "    logger.info(f\"\\nTime taken to execute first_valid_weight_selection_using_approach_2: {round(elapsed_time, 2)} secs\")\n",
    "    \n",
    "    return first_valid_weight_fixed\n"
   ]
  },
  {
   "cell_type": "code",
   "execution_count": 31,
   "id": "e5064ad0",
   "metadata": {},
   "outputs": [
    {
     "name": "stderr",
     "output_type": "stream",
     "text": [
      "INFO:__main__:\n",
      "Time taken to execute first_valid_weight_selection_using_approach_2: 0.29 secs\n"
     ]
    }
   ],
   "source": [
    "first_valid_weight_2 = first_valid_weight_selection_using_approach_2( filtered_data=valid_measurements_filtered_2, \n",
    "                                                                     uid_list=invalid_reference_weight_uids)"
   ]
  },
  {
   "cell_type": "code",
   "execution_count": 32,
   "id": "40f0c3c3",
   "metadata": {},
   "outputs": [
    {
     "data": {
      "text/html": [
       "<div>\n",
       "<style scoped>\n",
       "    .dataframe tbody tr th:only-of-type {\n",
       "        vertical-align: middle;\n",
       "    }\n",
       "\n",
       "    .dataframe tbody tr th {\n",
       "        vertical-align: top;\n",
       "    }\n",
       "\n",
       "    .dataframe thead th {\n",
       "        text-align: right;\n",
       "    }\n",
       "</style>\n",
       "<table border=\"1\" class=\"dataframe\">\n",
       "  <thead>\n",
       "    <tr style=\"text-align: right;\">\n",
       "      <th></th>\n",
       "      <th>ID</th>\n",
       "      <th>UID</th>\n",
       "      <th>GROUP_NAME</th>\n",
       "      <th>DEVICEUTC</th>\n",
       "      <th>FIRST_VALID_WEIGHT</th>\n",
       "      <th>REFERENCE_WEIGHT</th>\n",
       "      <th>ABS_DIFF</th>\n",
       "    </tr>\n",
       "  </thead>\n",
       "  <tbody>\n",
       "    <tr>\n",
       "      <th>0</th>\n",
       "      <td>1214893</td>\n",
       "      <td>172</td>\n",
       "      <td>None</td>\n",
       "      <td>2021-06-23 14:25:40</td>\n",
       "      <td>68.23</td>\n",
       "      <td>68.23000</td>\n",
       "      <td>0.00000</td>\n",
       "    </tr>\n",
       "    <tr>\n",
       "      <th>1</th>\n",
       "      <td>1201724</td>\n",
       "      <td>18325</td>\n",
       "      <td>None</td>\n",
       "      <td>2021-05-25 20:55:04</td>\n",
       "      <td>70.66</td>\n",
       "      <td>67.00000</td>\n",
       "      <td>3.66000</td>\n",
       "    </tr>\n",
       "    <tr>\n",
       "      <th>2</th>\n",
       "      <td>1138800</td>\n",
       "      <td>21711</td>\n",
       "      <td>None</td>\n",
       "      <td>2020-11-26 08:18:30</td>\n",
       "      <td>66.83</td>\n",
       "      <td>67.31311</td>\n",
       "      <td>0.48311</td>\n",
       "    </tr>\n",
       "    <tr>\n",
       "      <th>3</th>\n",
       "      <td>1134331</td>\n",
       "      <td>45642</td>\n",
       "      <td>None</td>\n",
       "      <td>2020-11-25 13:44:35</td>\n",
       "      <td>69.11</td>\n",
       "      <td>69.10000</td>\n",
       "      <td>0.01000</td>\n",
       "    </tr>\n",
       "    <tr>\n",
       "      <th>4</th>\n",
       "      <td>1182072</td>\n",
       "      <td>56298</td>\n",
       "      <td>None</td>\n",
       "      <td>2021-04-07 12:29:47</td>\n",
       "      <td>130.36</td>\n",
       "      <td>121.18000</td>\n",
       "      <td>9.18000</td>\n",
       "    </tr>\n",
       "  </tbody>\n",
       "</table>\n",
       "</div>"
      ],
      "text/plain": [
       "        ID    UID GROUP_NAME           DEVICEUTC  FIRST_VALID_WEIGHT  \\\n",
       "0  1214893    172       None 2021-06-23 14:25:40               68.23   \n",
       "1  1201724  18325       None 2021-05-25 20:55:04               70.66   \n",
       "2  1138800  21711       None 2020-11-26 08:18:30               66.83   \n",
       "3  1134331  45642       None 2020-11-25 13:44:35               69.11   \n",
       "4  1182072  56298       None 2021-04-07 12:29:47              130.36   \n",
       "\n",
       "   REFERENCE_WEIGHT  ABS_DIFF  \n",
       "0          68.23000   0.00000  \n",
       "1          67.00000   3.66000  \n",
       "2          67.31311   0.48311  \n",
       "3          69.10000   0.01000  \n",
       "4         121.18000   9.18000  "
      ]
     },
     "execution_count": 32,
     "metadata": {},
     "output_type": "execute_result"
    }
   ],
   "source": [
    "first_valid_weight_2.head()"
   ]
  },
  {
   "cell_type": "markdown",
   "id": "f0018ce7",
   "metadata": {},
   "source": [
    "\n",
    "<font color=#F36E31>APPROACH-3</font>\n",
    "\n",
    "   - <font color=#474747> Without considering days gap, \n",
    "        1. Consider the first five days' measurements.\n",
    "        2. Calculate the median weight for each day.\n",
    "        3. Identify the day with the median weight closest to the reference weight.\n",
    "        4. Choose the weight measurement closest to the median weight of the selected day as the **First Valid Weight**.</font>\n"
   ]
  },
  {
   "cell_type": "code",
   "execution_count": 34,
   "id": "20b5884e",
   "metadata": {},
   "outputs": [],
   "source": [
    "def first_valid_weight_selection_using_approach_3(filtered_data, agg_func, uid_list):\n",
    "    \"\"\"\n",
    "    Returns a dataframe with first valid weight using approach-3.\n",
    "    \n",
    "    Argument(s):\n",
    "    filtered_data: Filtered dataframe with valid weights only.\n",
    "    agg_func: Aggregation function to use for aggregating weight values (e.g., 'mean', 'median').\n",
    "    uid_list: Users whose reference weight is less than lower weight limit.\n",
    "    \"\"\"\n",
    "    start_time = time.time()\n",
    "    \n",
    "    filtered_data_1 = filtered_data.copy()\n",
    "    reference_wht = filtered_data.groupby('UID')['REFERENCE_WEIGHT'].first().reset_index()\n",
    "    \n",
    "    aggregated_data = filtered_data.groupby(['UID', 'USAGE_DAY'])['WEIGHTVALUE'].agg(AGG_VAL=agg_func).reset_index()\n",
    "    first_5_days_data = aggregated_data.groupby('UID').head(5).merge(reference_wht, on='UID', how='left')\n",
    "    first_5_days_data['DIFF'] = np.abs(first_5_days_data['AGG_VAL'] - first_5_days_data['REFERENCE_WEIGHT'].astype(float))\n",
    "    \n",
    "    valid_day = first_5_days_data.loc[first_5_days_data.groupby('UID')['DIFF'].idxmin()]\n",
    "    uid_day_map = valid_day.set_index('UID')['USAGE_DAY'].to_dict()\n",
    "    \n",
    "    filtered_data_1['VALID_DAY'] = filtered_data_1.apply(lambda x: x.USAGE_DAY == uid_day_map.get(x.UID), axis=1)\n",
    "    filtered_data_w_valid_day = filtered_data_1[filtered_data_1['VALID_DAY']]\n",
    "    filtered_data_w_valid_day = filtered_data_w_valid_day.merge(first_5_days_data[['UID', 'AGG_VAL']], on='UID', how='left')\n",
    "    filtered_data_w_valid_day['AGG_VAL_DIFF'] = np.abs(filtered_data_w_valid_day['WEIGHTVALUE'] - filtered_data_w_valid_day['AGG_VAL'])\n",
    "    \n",
    "    condition = filtered_data_w_valid_day.groupby('UID')['AGG_VAL_DIFF'].idxmin()\n",
    "    first_valid_weight = filtered_data_w_valid_day.loc[condition]\n",
    "    first_valid_weight_fixed = lower_limit_wht_fix(filtered_data, first_valid_weight, uid_list)\n",
    "    first_valid_weight_fixed = first_valid_weight_fixed.rename(columns={'WEIGHTVALUE': 'FIRST_VALID_WEIGHT'})\n",
    "    \n",
    "    elapsed_time = time.time() - start_time\n",
    "    logger.info(f\"\\nTime taken to execute first_valid_weight_selection_using_approach_3: {round(elapsed_time, 2)} secs\")\n",
    "    \n",
    "    return first_valid_weight_fixed\n"
   ]
  },
  {
   "cell_type": "code",
   "execution_count": 35,
   "id": "6a2517d2",
   "metadata": {
    "scrolled": false
   },
   "outputs": [
    {
     "name": "stderr",
     "output_type": "stream",
     "text": [
      "INFO:__main__:\n",
      "Time taken to execute first_valid_weight_selection_using_approach_3: 13.42 secs\n"
     ]
    }
   ],
   "source": [
    "first_valid_weight_3 = first_valid_weight_selection_using_approach_3(filtered_data=valid_measurements_filtered_2, agg_func=np.median, uid_list=invalid_reference_weight_uids)"
   ]
  },
  {
   "cell_type": "code",
   "execution_count": 36,
   "id": "ce91c40a",
   "metadata": {},
   "outputs": [
    {
     "data": {
      "text/html": [
       "<div>\n",
       "<style scoped>\n",
       "    .dataframe tbody tr th:only-of-type {\n",
       "        vertical-align: middle;\n",
       "    }\n",
       "\n",
       "    .dataframe tbody tr th {\n",
       "        vertical-align: top;\n",
       "    }\n",
       "\n",
       "    .dataframe thead th {\n",
       "        text-align: right;\n",
       "    }\n",
       "</style>\n",
       "<table border=\"1\" class=\"dataframe\">\n",
       "  <thead>\n",
       "    <tr style=\"text-align: right;\">\n",
       "      <th></th>\n",
       "      <th>ID</th>\n",
       "      <th>UID</th>\n",
       "      <th>GROUP_NAME</th>\n",
       "      <th>DEVICEUTC</th>\n",
       "      <th>FIRST_VALID_WEIGHT</th>\n",
       "      <th>REFERENCE_WEIGHT</th>\n",
       "      <th>ABS_DIFF</th>\n",
       "    </tr>\n",
       "  </thead>\n",
       "  <tbody>\n",
       "    <tr>\n",
       "      <th>0</th>\n",
       "      <td>1214893</td>\n",
       "      <td>172</td>\n",
       "      <td>None</td>\n",
       "      <td>2021-06-23 14:25:40</td>\n",
       "      <td>68.23</td>\n",
       "      <td>68.23000</td>\n",
       "      <td>0.00000</td>\n",
       "    </tr>\n",
       "    <tr>\n",
       "      <th>1</th>\n",
       "      <td>1201724</td>\n",
       "      <td>18325</td>\n",
       "      <td>None</td>\n",
       "      <td>2021-05-25 20:55:04</td>\n",
       "      <td>70.66</td>\n",
       "      <td>67.00000</td>\n",
       "      <td>3.66000</td>\n",
       "    </tr>\n",
       "    <tr>\n",
       "      <th>2</th>\n",
       "      <td>1134609</td>\n",
       "      <td>21711</td>\n",
       "      <td>None</td>\n",
       "      <td>2020-11-26 08:13:46</td>\n",
       "      <td>68.61</td>\n",
       "      <td>67.31311</td>\n",
       "      <td>1.29689</td>\n",
       "    </tr>\n",
       "    <tr>\n",
       "      <th>3</th>\n",
       "      <td>1134331</td>\n",
       "      <td>45642</td>\n",
       "      <td>None</td>\n",
       "      <td>2020-11-25 13:44:35</td>\n",
       "      <td>69.11</td>\n",
       "      <td>69.10000</td>\n",
       "      <td>0.01000</td>\n",
       "    </tr>\n",
       "    <tr>\n",
       "      <th>4</th>\n",
       "      <td>1183001</td>\n",
       "      <td>56298</td>\n",
       "      <td>None</td>\n",
       "      <td>2021-04-09 14:34:36</td>\n",
       "      <td>141.31</td>\n",
       "      <td>121.18000</td>\n",
       "      <td>20.13000</td>\n",
       "    </tr>\n",
       "  </tbody>\n",
       "</table>\n",
       "</div>"
      ],
      "text/plain": [
       "        ID    UID GROUP_NAME           DEVICEUTC  FIRST_VALID_WEIGHT  \\\n",
       "0  1214893    172       None 2021-06-23 14:25:40               68.23   \n",
       "1  1201724  18325       None 2021-05-25 20:55:04               70.66   \n",
       "2  1134609  21711       None 2020-11-26 08:13:46               68.61   \n",
       "3  1134331  45642       None 2020-11-25 13:44:35               69.11   \n",
       "4  1183001  56298       None 2021-04-09 14:34:36              141.31   \n",
       "\n",
       "   REFERENCE_WEIGHT  ABS_DIFF  \n",
       "0          68.23000   0.00000  \n",
       "1          67.00000   3.66000  \n",
       "2          67.31311   1.29689  \n",
       "3          69.10000   0.01000  \n",
       "4         121.18000  20.13000  "
      ]
     },
     "execution_count": 36,
     "metadata": {},
     "output_type": "execute_result"
    }
   ],
   "source": [
    "first_valid_weight_3.head()"
   ]
  },
  {
   "cell_type": "markdown",
   "id": "05c807ea",
   "metadata": {},
   "source": [
    "---\n",
    "<h4><font color=#F36E31>6.5 IMPLEMENTING WEIGHT DATA CLEANING LOGIC</font></h4>"
   ]
  },
  {
   "cell_type": "code",
   "execution_count": 37,
   "id": "c217cc8a",
   "metadata": {},
   "outputs": [],
   "source": [
    "# First Check - within a week , if pct_change > 5 %\n",
    "# then Check - within a month , if pct_change > 10 %\n",
    "# else check - if pct_change > 20 %\n",
    "\n",
    "def weight_percent_change_check(df, index, prev_weight, prev_deviceutc, reason_dict):\n",
    "    \"\"\"\n",
    "    Returns a dataframe containing weights which are valid.\n",
    "    \n",
    "    Argument(s):\n",
    "    df: Dataframe containing weight measurements.\n",
    "    index: Current index being processed.\n",
    "    prev_weight: Weight value of the previous measurement.\n",
    "    prev_deviceutc: DEVICEUTC value of the previous measurement.\n",
    "    reason_dict: Dictionary to store reasons for weight validity.\n",
    "    \"\"\"\n",
    "    if index >= len(df):\n",
    "        return df, reason_dict\n",
    "\n",
    "    elif (df.loc[index, 'DEVICEUTC'] - prev_deviceutc <= timedelta(days=7)) and \\\n",
    "            (abs(df.loc[index, 'WEIGHTVALUE'] - prev_weight) / prev_weight > 0.05):\n",
    "        \n",
    "        reason_dict[df.loc[index, 'ID']] = f'>_5%_weight_change_within_a_week:prev_valid_weight={prev_weight}kg'\n",
    "        df = df.drop(index=index).reset_index(drop=True)\n",
    "        return weight_percent_change_check(df, index, prev_weight, prev_deviceutc, reason_dict)\n",
    "\n",
    "    elif (df.loc[index, 'DEVICEUTC'] - prev_deviceutc <= timedelta(days=30)) and \\\n",
    "            (abs(df.loc[index, 'WEIGHTVALUE'] - prev_weight) / prev_weight > 0.10):\n",
    "        \n",
    "        reason_dict[df.loc[index, 'ID']] = f'>_10%_weight_change_within_a_month:prev_valid_weight={prev_weight}kg'\n",
    "        df = df.drop(index=index).reset_index(drop=True)\n",
    "        return weight_percent_change_check(df, index, prev_weight, prev_deviceutc, reason_dict)\n",
    "\n",
    "    elif abs(df.loc[index, 'WEIGHTVALUE'] - prev_weight) / prev_weight > 0.20:\n",
    "        reason_dict[df.loc[index, 'ID']] = f'>_20%_weight_change:prev_valid_weight={prev_weight}kg'\n",
    "        df = df.drop(index=index).reset_index(drop=True)\n",
    "        return weight_percent_change_check(df, index, prev_weight, prev_deviceutc, reason_dict)\n",
    "\n",
    "    else:\n",
    "        df.loc[index, 'ANOMALY'] = False\n",
    "        reason_dict[df.loc[index, 'ID']] = \"no_significant_weight_change_detected\"\n",
    "        return weight_percent_change_check(df, index+1, df.loc[index, 'WEIGHTVALUE'], df.loc[index, 'DEVICEUTC'], reason_dict)\n"
   ]
  },
  {
   "cell_type": "code",
   "execution_count": 38,
   "id": "c120808a",
   "metadata": {},
   "outputs": [],
   "source": [
    "def data_cleaning_for_valid_user(filtered_data, first_valid_weight, weight_measurements_gt_5):\n",
    "    \"\"\"\n",
    "    Returns a dataframe with the final cleaned data.\n",
    "    \n",
    "    Argument(s):\n",
    "    filtered_data: Filtered weight data for valid users.\n",
    "    first_valid_weight: Dataframe with first valid weight for each user.\n",
    "    weight_measurements_gt_5: Dataframe with weight measurements greater than 5.\n",
    "    \"\"\"\n",
    "    start_time = time.time()\n",
    "    reason_dict = {}\n",
    "    concat_df = pd.DataFrame()\n",
    "    final_dataframe = weight_measurements_gt_5[weight_measurements_gt_5['UID'].isin(filtered_data['UID'].unique())]\n",
    "    \n",
    "    for num, uid in enumerate(set(filtered_data['UID'].unique())):\n",
    "        measurement_id = 0\n",
    "        temporary_df = filtered_data[filtered_data['UID'] == uid].reset_index(drop=True)\n",
    "        \n",
    "        if temporary_df[temporary_df['WEIGHT_NOT_WITHIN_RANGE'] == False].shape[0] != 0:\n",
    "            temporary_df = temporary_df[temporary_df['WEIGHT_NOT_WITHIN_RANGE'] == False].reset_index(drop=True)\n",
    "            measurement_id = first_valid_weight[first_valid_weight['UID'] == uid]['ID'].values[0]\n",
    "        else:\n",
    "            measurement_id = first_valid_weight[first_valid_weight['UID'] == uid]['ID'].values[0]  \n",
    "\n",
    "        temporary_df_sorted = temporary_df[['ID', 'DEVICEUTC', 'WEIGHTVALUE']].sort_values(by=['DEVICEUTC']).reset_index(drop=True)\n",
    "        temporary_df_sorted = temporary_df_sorted.reset_index()\n",
    "        first_index = temporary_df_sorted[temporary_df_sorted['ID'] == measurement_id].index.values[0]\n",
    "\n",
    "        temporary_df_sorted.loc[:, 'ANOMALY'] = True\n",
    "        temporary_df_sorted.loc[:, 'REASON'] = np.nan\n",
    "       \n",
    "        if len(temporary_df_sorted) != 0:\n",
    "            validated_data, reason_dict = weight_percent_change_check(temporary_df_sorted, first_index, temporary_df_sorted.loc[first_index, 'WEIGHTVALUE'], temporary_df_sorted.loc[first_index, 'DEVICEUTC'], reason_dict)\n",
    "            temporary_df_sorted.loc[:, 'ANOMALY'] = temporary_df_sorted['index'].apply(lambda x: validated_data[validated_data['index'] == x]['ANOMALY'].values[0] if x in validated_data['index'].values else True)\n",
    "            temporary_df_sorted.loc[:, 'REASON'] = temporary_df_sorted['ID'].map(reason_dict)\n",
    "            concat_df = pd.concat([concat_df, temporary_df_sorted], axis=0)\n",
    "        else:\n",
    "            concat_df = pd.concat([concat_df, temporary_df_sorted], axis=0)\n",
    "            \n",
    "        if num % 1000 == 0:\n",
    "            print(f\"\\nProcess completed: {round((num/len(list(filtered_data['UID'].unique()))) * 100, 2)}% done\")\n",
    "\n",
    "    final_validated_data = final_dataframe.merge(concat_df[['ID', 'ANOMALY', 'REASON']], how='left', on='ID')\n",
    "#     final_validated_data['WEIGHT_VALIDITY_STATUS'] = final_validated_data['ANOMALY'].apply(lambda x: 'valid' if x is False else 'invalid')   \n",
    "    final_validated_data['WEIGHT_VALIDITY_STATUS'] = np.where(final_validated_data['ANOMALY'], 'invalid', 'valid')\n",
    "    final_validated_data = final_validated_data.drop(columns='ANOMALY')  \n",
    "    elapsed_time = time.time() - start_time\n",
    "    logger.info(f\"Time taken to execute data_cleaning_for_valid_user: {round(elapsed_time, 2)} secs\")  \n",
    "    return final_validated_data\n"
   ]
  },
  {
   "cell_type": "code",
   "execution_count": 39,
   "id": "0bad758b",
   "metadata": {},
   "outputs": [
    {
     "name": "stdout",
     "output_type": "stream",
     "text": [
      "\n",
      "Process completed: 0.0% done\n",
      "\n",
      "Process completed: 23.34% done\n",
      "\n",
      "Process completed: 46.67% done\n",
      "\n",
      "Process completed: 70.01% done\n",
      "\n",
      "Process completed: 93.35% done\n"
     ]
    },
    {
     "name": "stderr",
     "output_type": "stream",
     "text": [
      "INFO:__main__:Time taken to execute data_cleaning_for_valid_user: 825.91 secs\n"
     ]
    }
   ],
   "source": [
    "data_required = data_cleaning_for_valid_user(filtered_data=valid_measurements_filtered_2,\n",
    "                                             first_valid_weight=first_valid_weight_1,\n",
    "                                             weight_measurements_gt_5=valid_users_measures)"
   ]
  },
  {
   "cell_type": "markdown",
   "id": "e8492cef",
   "metadata": {},
   "source": [
    "<font color=#F36E31>6.5.1 RE-VALIDATED INITIAL WEIGHTS AFTER FIRST VALID WEIGHT SELECTION.</font>\n",
    "\n",
    "- <font color=#474747>Check weight change w.r.t reference weight less than | ± 2 | kg.</font>\n",
    "\n",
    "- <font color=#474747>Kept this as a separate task, so that it can be tuned/modified if the considered fix will not work.</font>"
   ]
  },
  {
   "cell_type": "code",
   "execution_count": 46,
   "id": "bc73facf",
   "metadata": {},
   "outputs": [],
   "source": [
    "def revalidate_initial_weights(validated_data, first_valid_weight, weight_threshold):\n",
    "    \"\"\"\n",
    "    Returns a DataFrame with re-labelling of initial weights.\n",
    "    \n",
    "    Argument(s):\n",
    "    validated_data: Cleaned DataFrame.\n",
    "    first_valid_weight: First Valid Weight DataFrame.\n",
    "    \"\"\"\n",
    "    start_time = time.time()\n",
    "    revalidated_data = validated_data.merge(first_valid_weight[['UID', 'DEVICEUTC']], on=['UID'], how='inner')\n",
    "    \n",
    "    revalidated_data = revalidated_data[\n",
    "        (revalidated_data['MEASUREMENT_TYPE'] == 'smart_scale') &\n",
    "        (revalidated_data['DEVICEUTC_x'] <= revalidated_data['DEVICEUTC_y']) &\n",
    "        (revalidated_data['WEIGHT_NOT_WITHIN_RANGE'] == False)\n",
    "    ]\n",
    "    revalidated_data = revalidated_data[revalidated_data['WEIGHT_VALIDITY_STATUS'] == 'invalid']\n",
    "    \n",
    "    revalidated_data['WEIGHT_VALIDITY_STATUS_AFTER_FIX'] = np.where(\n",
    "        np.abs(revalidated_data['WEIGHTVALUE'] - revalidated_data['REFERENCE_WEIGHT'].astype(float)) < weight_threshold,\n",
    "        'valid',\n",
    "        'invalid'\n",
    "    )\n",
    "   \n",
    "    revalidated_data['REASON_FIX'] = np.where(\n",
    "        np.abs(revalidated_data['WEIGHTVALUE'] - revalidated_data['REFERENCE_WEIGHT'].astype(float)) < weight_threshold,\n",
    "        \"no_significant_deviation_from_ref_wht\",\n",
    "        \"detected_significant_deviation_from_ref_wht\"\n",
    "    )\n",
    "    \n",
    "    validated_data = validated_data.merge(revalidated_data[['ID', 'REASON_FIX', 'WEIGHT_VALIDITY_STATUS_AFTER_FIX']], on='ID', how='left')\n",
    "    validated_data['WEIGHT_VALIDITY_STATUS_AFTER_FIX'] = validated_data['WEIGHT_VALIDITY_STATUS_AFTER_FIX'].fillna(validated_data['WEIGHT_VALIDITY_STATUS'])\n",
    "    validated_data['REASON_FIX'] = validated_data['REASON'].fillna(validated_data['REASON_FIX'])\n",
    "    \n",
    "    elapsed_time = time.time() - start_time\n",
    "    logger.info(f\"\\nTime taken to execute revalidate_initial_weights: {round(elapsed_time, 2)} secs\")\n",
    "    return validated_data\n"
   ]
  },
  {
   "cell_type": "code",
   "execution_count": 47,
   "id": "768b3fe8",
   "metadata": {},
   "outputs": [
    {
     "name": "stderr",
     "output_type": "stream",
     "text": [
      "INFO:__main__:\n",
      "Time taken to execute revalidate_initial_weights: 0.73 secs\n"
     ]
    }
   ],
   "source": [
    "revalidated_data = revalidate_initial_weights(data_required, first_valid_weight_1, weight_threshold=2)"
   ]
  },
  {
   "cell_type": "code",
   "execution_count": 48,
   "id": "45d1c9fa",
   "metadata": {},
   "outputs": [
    {
     "data": {
      "text/html": [
       "<div>\n",
       "<style scoped>\n",
       "    .dataframe tbody tr th:only-of-type {\n",
       "        vertical-align: middle;\n",
       "    }\n",
       "\n",
       "    .dataframe tbody tr th {\n",
       "        vertical-align: top;\n",
       "    }\n",
       "\n",
       "    .dataframe thead th {\n",
       "        text-align: right;\n",
       "    }\n",
       "</style>\n",
       "<table border=\"1\" class=\"dataframe\">\n",
       "  <thead>\n",
       "    <tr style=\"text-align: right;\">\n",
       "      <th></th>\n",
       "      <th>ID</th>\n",
       "      <th>UID</th>\n",
       "      <th>TRANSACTION_ID</th>\n",
       "      <th>DEVICEUTC</th>\n",
       "      <th>WEIGHTVALUE</th>\n",
       "      <th>GROUP_NAME</th>\n",
       "      <th>CLIENT_TYPE</th>\n",
       "      <th>MEASUREMENT_TYPE</th>\n",
       "      <th>COUNT_LESS_THAN_5</th>\n",
       "      <th>COUNT_MORE_THAN_5000</th>\n",
       "      <th>WEIGHT_NOT_WITHIN_RANGE</th>\n",
       "      <th>USAGE_DAY</th>\n",
       "      <th>USAGE_MONTH</th>\n",
       "      <th>REFERENCE_WEIGHT</th>\n",
       "      <th>ABS_DIFF</th>\n",
       "      <th>REASON</th>\n",
       "      <th>WEIGHT_VALIDITY_STATUS</th>\n",
       "      <th>REASON_FIX</th>\n",
       "      <th>WEIGHT_VALIDITY_STATUS_AFTER_FIX</th>\n",
       "    </tr>\n",
       "  </thead>\n",
       "  <tbody>\n",
       "    <tr>\n",
       "      <th>0</th>\n",
       "      <td>1213108</td>\n",
       "      <td>172</td>\n",
       "      <td>61879461</td>\n",
       "      <td>2021-06-20 16:18:59</td>\n",
       "      <td>67.88</td>\n",
       "      <td>None</td>\n",
       "      <td>B2C</td>\n",
       "      <td>smart_scale</td>\n",
       "      <td>False</td>\n",
       "      <td>False</td>\n",
       "      <td>False</td>\n",
       "      <td>0</td>\n",
       "      <td>0</td>\n",
       "      <td>68.23</td>\n",
       "      <td>0.35</td>\n",
       "      <td>NaN</td>\n",
       "      <td>invalid</td>\n",
       "      <td>no_significant_deviation_from_ref_wht</td>\n",
       "      <td>valid</td>\n",
       "    </tr>\n",
       "    <tr>\n",
       "      <th>1</th>\n",
       "      <td>1213109</td>\n",
       "      <td>172</td>\n",
       "      <td>61879480</td>\n",
       "      <td>2021-06-20 16:19:43</td>\n",
       "      <td>67.91</td>\n",
       "      <td>None</td>\n",
       "      <td>B2C</td>\n",
       "      <td>smart_scale</td>\n",
       "      <td>False</td>\n",
       "      <td>False</td>\n",
       "      <td>False</td>\n",
       "      <td>0</td>\n",
       "      <td>0</td>\n",
       "      <td>68.23</td>\n",
       "      <td>0.32</td>\n",
       "      <td>NaN</td>\n",
       "      <td>invalid</td>\n",
       "      <td>no_significant_deviation_from_ref_wht</td>\n",
       "      <td>valid</td>\n",
       "    </tr>\n",
       "    <tr>\n",
       "      <th>2</th>\n",
       "      <td>1213130</td>\n",
       "      <td>172</td>\n",
       "      <td>61880128</td>\n",
       "      <td>2021-06-20 16:47:45</td>\n",
       "      <td>67.94</td>\n",
       "      <td>None</td>\n",
       "      <td>B2C</td>\n",
       "      <td>smart_scale</td>\n",
       "      <td>False</td>\n",
       "      <td>False</td>\n",
       "      <td>False</td>\n",
       "      <td>0</td>\n",
       "      <td>0</td>\n",
       "      <td>68.23</td>\n",
       "      <td>0.29</td>\n",
       "      <td>NaN</td>\n",
       "      <td>invalid</td>\n",
       "      <td>no_significant_deviation_from_ref_wht</td>\n",
       "      <td>valid</td>\n",
       "    </tr>\n",
       "    <tr>\n",
       "      <th>3</th>\n",
       "      <td>1214723</td>\n",
       "      <td>172</td>\n",
       "      <td>61950402</td>\n",
       "      <td>2021-06-22 08:44:15</td>\n",
       "      <td>101.57</td>\n",
       "      <td>None</td>\n",
       "      <td>B2C</td>\n",
       "      <td>smart_scale</td>\n",
       "      <td>False</td>\n",
       "      <td>False</td>\n",
       "      <td>False</td>\n",
       "      <td>2</td>\n",
       "      <td>0</td>\n",
       "      <td>68.23</td>\n",
       "      <td>33.34</td>\n",
       "      <td>NaN</td>\n",
       "      <td>invalid</td>\n",
       "      <td>detected_significant_deviation_from_ref_wht</td>\n",
       "      <td>invalid</td>\n",
       "    </tr>\n",
       "    <tr>\n",
       "      <th>4</th>\n",
       "      <td>1214893</td>\n",
       "      <td>172</td>\n",
       "      <td>61955609</td>\n",
       "      <td>2021-06-23 14:25:40</td>\n",
       "      <td>68.23</td>\n",
       "      <td>None</td>\n",
       "      <td>B2C</td>\n",
       "      <td>smart_scale</td>\n",
       "      <td>False</td>\n",
       "      <td>False</td>\n",
       "      <td>False</td>\n",
       "      <td>3</td>\n",
       "      <td>0</td>\n",
       "      <td>68.23</td>\n",
       "      <td>0.00</td>\n",
       "      <td>no_significant_weight_change_detected</td>\n",
       "      <td>valid</td>\n",
       "      <td>no_significant_weight_change_detected</td>\n",
       "      <td>valid</td>\n",
       "    </tr>\n",
       "  </tbody>\n",
       "</table>\n",
       "</div>"
      ],
      "text/plain": [
       "        ID  UID  TRANSACTION_ID           DEVICEUTC  WEIGHTVALUE GROUP_NAME  \\\n",
       "0  1213108  172        61879461 2021-06-20 16:18:59        67.88       None   \n",
       "1  1213109  172        61879480 2021-06-20 16:19:43        67.91       None   \n",
       "2  1213130  172        61880128 2021-06-20 16:47:45        67.94       None   \n",
       "3  1214723  172        61950402 2021-06-22 08:44:15       101.57       None   \n",
       "4  1214893  172        61955609 2021-06-23 14:25:40        68.23       None   \n",
       "\n",
       "  CLIENT_TYPE MEASUREMENT_TYPE  COUNT_LESS_THAN_5  COUNT_MORE_THAN_5000  \\\n",
       "0         B2C      smart_scale              False                 False   \n",
       "1         B2C      smart_scale              False                 False   \n",
       "2         B2C      smart_scale              False                 False   \n",
       "3         B2C      smart_scale              False                 False   \n",
       "4         B2C      smart_scale              False                 False   \n",
       "\n",
       "   WEIGHT_NOT_WITHIN_RANGE  USAGE_DAY  USAGE_MONTH  REFERENCE_WEIGHT  \\\n",
       "0                    False          0            0             68.23   \n",
       "1                    False          0            0             68.23   \n",
       "2                    False          0            0             68.23   \n",
       "3                    False          2            0             68.23   \n",
       "4                    False          3            0             68.23   \n",
       "\n",
       "   ABS_DIFF                                 REASON WEIGHT_VALIDITY_STATUS  \\\n",
       "0      0.35                                    NaN                invalid   \n",
       "1      0.32                                    NaN                invalid   \n",
       "2      0.29                                    NaN                invalid   \n",
       "3     33.34                                    NaN                invalid   \n",
       "4      0.00  no_significant_weight_change_detected                  valid   \n",
       "\n",
       "                                    REASON_FIX  \\\n",
       "0        no_significant_deviation_from_ref_wht   \n",
       "1        no_significant_deviation_from_ref_wht   \n",
       "2        no_significant_deviation_from_ref_wht   \n",
       "3  detected_significant_deviation_from_ref_wht   \n",
       "4        no_significant_weight_change_detected   \n",
       "\n",
       "  WEIGHT_VALIDITY_STATUS_AFTER_FIX  \n",
       "0                            valid  \n",
       "1                            valid  \n",
       "2                            valid  \n",
       "3                          invalid  \n",
       "4                            valid  "
      ]
     },
     "execution_count": 48,
     "metadata": {},
     "output_type": "execute_result"
    }
   ],
   "source": [
    "revalidated_data.head()"
   ]
  },
  {
   "cell_type": "markdown",
   "id": "9763ebda",
   "metadata": {},
   "source": [
    "<font color=#F36E31>6.5.2 CREATING FINAL DATAFRAME WITH REQUIRED FEATURES</font>\n",
    "\n",
    "- <font color=#474747>Added Users with less than 5 Measurements.</font>\n",
    "- <font color=#474747>Added Users with more than 5000 Measurements.</font>\n",
    "- <font color=#474747>Users with all measurements are manually shared or all measurements are not in the specified weight ranges.</font>\n",
    "- <font color=#474747>Update ```REASON``` for the above cases.</font>"
   ]
  },
  {
   "cell_type": "code",
   "execution_count": 49,
   "id": "d45b2434",
   "metadata": {},
   "outputs": [],
   "source": [
    "def preprocess_and_concatenate_dataframes(df1, df2, df3, df4, first_valid_weight):\n",
    "    \"\"\"\n",
    "    Returns a dataframe with required features.\n",
    "    \n",
    "    Argument(s):\n",
    "    df1: Final dataframe\n",
    "    df2: Dataframe With Users whose all measurements are invalid\n",
    "    df3: Dataframe with Users with insufficient data,\n",
    "    df4:\n",
    "    \"\"\"\n",
    "\n",
    "    start_time = time.time()\n",
    "    \n",
    "    # Dataframe with required columns\n",
    "    df1 = df1.merge(first_valid_weight[['UID', 'FIRST_VALID_WEIGHT']], on='UID', how='left')\n",
    "    df1 = df1.drop(columns=['REASON', 'WEIGHT_VALIDITY_STATUS'])\n",
    "    df1 = df1.rename(columns={'REASON_FIX': 'REASON', \n",
    "                              'WEIGHT_VALIDITY_STATUS_AFTER_FIX':'WEIGHT_VALIDITY_STATUS'})\n",
    "    \n",
    "    c1 = (df1['WEIGHT_NOT_WITHIN_RANGE'] == True)\n",
    "    c2 = (df1['WEIGHT_NOT_WITHIN_RANGE'] == False)\n",
    "    c3 = (df1['MEASUREMENT_TYPE'] == 'manually_inserted')\n",
    "    c4 = (df1['MEASUREMENT_TYPE'] == 'smart_scale')\n",
    "    \n",
    "    condition_1 = c1 & c3\n",
    "    condition_2 = c2 & c3\n",
    "    condition_3 = c1 & c4\n",
    "    \n",
    "    df1.loc[condition_1, 'REASON'] = \"manually_inserted_and_not_within_WL_range\"\n",
    "    df1.loc[condition_2, 'REASON'] = \"manually_inserted\"\n",
    "    df1.loc[condition_3, 'REASON'] = \"not_within_WL_range\"\n",
    "    \n",
    "    # Dataframe with users whose all measurements are either manually inserted or not within the WL range or both\n",
    "    df2 = df2[~df2['ID'].isin(df1['ID'].unique())]\n",
    "    if not df2.empty:\n",
    "        df2.loc[:, 'REASON'] = \"manually_inserted_or_not_within_WL_range_or_both\"\n",
    "        df2.loc[:, 'FIRST_VALID_WEIGHT'] = np.nan\n",
    "        df2.loc[:, 'WEIGHT_VALIDITY_STATUS'] = 'all_measurements_are_invalid'\n",
    "     \n",
    "    # Dataframe with users whose total measurements are less than 5.\n",
    "    if not df3.empty:\n",
    "        df3.loc[:, 'REASON'] = '<_5_measurements'\n",
    "        df3.loc[:, 'FIRST_VALID_WEIGHT'] = np.nan\n",
    "        df3.loc[:, 'WEIGHT_VALIDITY_STATUS'] = \"insufficient_data\"\n",
    "    \n",
    "    # Dataframe with users whose total measurements are more than 5000.\n",
    "    if not df4.empty:\n",
    "        df4.loc[:, 'REASON'] = '>_5000_measurements'\n",
    "        df4.loc[:, 'FIRST_VALID_WEIGHT'] = np.nan\n",
    "        df4.loc[:, 'WEIGHT_VALIDITY_STATUS'] = \"exceeded_recursion_limit\"\n",
    "\n",
    "    required_columns = ['ID', 'UID', 'TRANSACTION_ID', 'CLIENT_TYPE', 'GROUP_NAME', 'DEVICEUTC',\n",
    "                        'WEIGHTVALUE', 'MEASUREMENT_TYPE', 'WEIGHT_NOT_WITHIN_RANGE', 'REFERENCE_WEIGHT', \n",
    "                        'FIRST_VALID_WEIGHT', 'WEIGHT_VALIDITY_STATUS', 'REASON']\n",
    "    \n",
    "    df1 = df1[required_columns]\n",
    "    if not df2.empty:\n",
    "        df2 = df2[required_columns]\n",
    "    if not df3.empty:\n",
    "        df3 = df3[required_columns]\n",
    "    if not df4.empty:\n",
    "        df4 = df4[required_columns]\n",
    "    \n",
    "    dataframes = [df1, df2, df3, df4]\n",
    "    \n",
    "  \n",
    "    final_required_data = pd.concat([df for df in dataframes if not df.empty], axis=0).sort_values(by=['ID', 'UID', 'DEVICEUTC'])\n",
    "    final_required_data['GROUP_NAME'] = final_required_data['GROUP_NAME'].fillna('b2c')\n",
    "    \n",
    "    c9 = (final_required_data['MEASUREMENT_TYPE'] == 'manually_inserted')\n",
    "    c10 =(final_required_data['WEIGHT_VALIDITY_STATUS'] == 'invalid')\n",
    "    condition_7 = c9 & c10\n",
    "    final_required_data.loc[condition_7, 'WEIGHT_VALIDITY_STATUS'] = \"invalid_manually_inserted\"\n",
    "    final_required_data = final_required_data.reset_index(drop=True)\n",
    "    \n",
    "    elapsed_time = time.time() - start_time\n",
    "    logger.info(f\"\\nTime taken to execute preprocess_and_concatenate_dataframes: {round(elapsed_time, 2)} secs\")\n",
    "    return final_required_data\n"
   ]
  },
  {
   "cell_type": "code",
   "execution_count": 44,
   "id": "c71de61a",
   "metadata": {},
   "outputs": [
    {
     "name": "stderr",
     "output_type": "stream",
     "text": [
      "INFO:__main__:\n",
      "Time taken to execute preprocess_and_concatenate_dataframes: 3.1 secs\n"
     ]
    }
   ],
   "source": [
    "dataframe_w_required_features = preprocess_and_concatenate_dataframes(df1=revalidated_data,\n",
    "                                           df2=valid_users_measures,\n",
    "                                           df3=user_w_less_than_5_measures,\n",
    "                                           df4=user_w_more_than_5000_measures,\n",
    "                                           first_valid_weight=first_valid_weight_1)\n"
   ]
  },
  {
   "cell_type": "code",
   "execution_count": 50,
   "id": "0fb599f8",
   "metadata": {},
   "outputs": [
    {
     "name": "stdout",
     "output_type": "stream",
     "text": [
      "COMPARING ROWS WHETHER THESE ARE SAME AS IN THE RAW DATA:\n",
      "ID -  True\n",
      "UID -  True\n",
      "DEVICEUTC -  True\n",
      "WEIGHTVALUE -  True\n"
     ]
    }
   ],
   "source": [
    "data_raw = data_raw.sort_values(by=[\"ID\", \"UID\", \"DEVICEUTC\"]).reset_index(drop=True)\n",
    "print('COMPARING ROWS WHETHER THESE ARE SAME AS IN THE RAW DATA:')\n",
    "print('ID - ', data_raw['ID'].equals(dataframe_w_required_features['ID']))\n",
    "print('UID - ', data_raw['UID'].equals(dataframe_w_required_features['UID']))\n",
    "print('DEVICEUTC - ', data_raw['DEVICEUTC'].equals(dataframe_w_required_features['DEVICEUTC']) )  \n",
    "print('WEIGHTVALUE - ',  data_raw['WEIGHTVALUE'].equals(dataframe_w_required_features['WEIGHTVALUE'])  )    "
   ]
  },
  {
   "cell_type": "code",
   "execution_count": 43,
   "id": "54e43131",
   "metadata": {},
   "outputs": [],
   "source": [
    "# save data in csv format\n",
    "dataframe_w_required_features.to_csv(\"scripts/static/weight_data_with_required_features.csv\", index=False)"
   ]
  },
  {
   "cell_type": "markdown",
   "id": "e16680be",
   "metadata": {},
   "source": [
    "---\n",
    "<h4><font color=#F36E31>6.6 VISUALIZING OUTPUTS</font></h4>"
   ]
  },
  {
   "cell_type": "code",
   "execution_count": 51,
   "id": "f232597e",
   "metadata": {},
   "outputs": [],
   "source": [
    "def scatter_plot(df_cleaned_data, sample, plot, col):\n",
    "    for uid in sample:\n",
    "        df_filtered = df_cleaned_data[df_cleaned_data['UID'] == uid]\n",
    "        group_name = df_filtered['GROUP_NAME'].unique()[0]\n",
    "        ths = df_filtered['FIRST_VALID_WEIGHT'].unique()[0]\n",
    "        \n",
    "        ths_1 = df_filtered['REFERENCE_WEIGHT'].unique()[0]\n",
    "        \n",
    "        df_filtered_manual = df_filtered[df_filtered['MEASUREMENT_TYPE']\n",
    "                                         == 'manually_shared']\n",
    "        plt.figure(figsize=(15, 5))\n",
    "        \n",
    "        palette = {'valid': 'green', 'invalid': 'r'}\n",
    "        \n",
    "        sns.scatterplot(data=df_filtered, x=\"DEVICEUTC\",\n",
    "                        y=\"WEIGHTVALUE\", hue=col, palette=palette)\n",
    "        \n",
    "        sns.scatterplot(data=df_filtered_manual, x=\"DEVICEUTC\", y=\"WEIGHTVALUE\",\n",
    "                        marker='s', s=80, color='blue', label='Manually Shared')\n",
    "        \n",
    "        plt.axhline(y=ths, linestyle='--', color='r',\n",
    "                    label='First Valid Weight = ' + str(ths) + 'kg')\n",
    "        \n",
    "        plt.axhline(y=ths_1, linestyle='--', color='b',\n",
    "                    label='Reference Weight = ' + str(ths_1) + 'kg')\n",
    "        \n",
    "        plt.axhspan(ths+2, ths-2, alpha=0.1,\n",
    "                    color='grey', label='+/- 2 kg SPAN')\n",
    "        \n",
    "        plt.xlabel(\"TIME [ YYYY- MM ] \")\n",
    "        \n",
    "        plt.ylabel(\"WEIGHTVALUE\")\n",
    "        \n",
    "        plt.title('Weight Progress Over Time: UID - ' + str(uid) +' '+ group_name + ' [ REF. WEIGHT = ' + str(\n",
    "            ths_1) + ' kg ' + ',  FIRST_VALID_WHT = ' + str(ths) + ' kg ]', fontsize=14)\n",
    "        \n",
    "        sns.set_style(\"darkgrid\")\n",
    "        \n",
    "        plt.legend()\n",
    "#         plt.savefig(\"plot_\" + str(uid)+plot+ \".png\", format=\"png\", dpi=480)\n",
    "        plt.show()"
   ]
  },
  {
   "cell_type": "code",
   "execution_count": 53,
   "id": "778e180b",
   "metadata": {
    "scrolled": false
   },
   "outputs": [
    {
     "name": "stdout",
     "output_type": "stream",
     "text": [
      "APPROACH_1\n"
     ]
    },
    {
     "data": {
      "image/png": "[encoded data removed]",
      "text/plain": [
       "<Figure size 1080x360 with 1 Axes>"
      ]
     },
     "metadata": {},
     "output_type": "display_data"
    },
    {
     "name": "stdout",
     "output_type": "stream",
     "text": [
      "APPROACH_1\n"
     ]
    },
    {
     "data": {
      "image/png": "[encoded data removed]",
      "text/plain": [
       "<Figure size 1080x360 with 1 Axes>"
      ]
     },
     "metadata": {},
     "output_type": "display_data"
    },
    {
     "name": "stdout",
     "output_type": "stream",
     "text": [
      "APPROACH_1\n"
     ]
    },
    {
     "data": {
      "image/png": "[encoded data removed]",
      "text/plain": [
       "<Figure size 1080x360 with 1 Axes>"
      ]
     },
     "metadata": {},
     "output_type": "display_data"
    },
    {
     "name": "stdout",
     "output_type": "stream",
     "text": [
      "APPROACH_1\n"
     ]
    },
    {
     "data": {
      "image/png": "[encoded data removed]",
      "text/plain": [
       "<Figure size 1080x360 with 1 Axes>"
      ]
     },
     "metadata": {},
     "output_type": "display_data"
    }
   ],
   "source": [
    "import random \n",
    "# uids = list(data_raw['UID].unique())\n",
    "# sample = random.sample(uids, 5)\n",
    "for uid in [649589, 649665, 646224, 646556]:\n",
    "    print(\"APPROACH_1\")\n",
    "    scatter_plot(dataframe_w_required_features, [uid], 'approach_1', 'WEIGHT_VALIDITY_STATUS')"
   ]
  },
  {
   "cell_type": "markdown",
   "id": "5993ecda",
   "metadata": {},
   "source": [
    "\n",
    "                                        ------------ END -------------"
   ]
  },
  {
   "cell_type": "markdown",
   "id": "febc74b4",
   "metadata": {},
   "source": [
    "------"
   ]
  },
  {
   "cell_type": "markdown",
   "id": "1a02b4c8",
   "metadata": {},
   "source": [
    "<h4><font color=#F36E31> Creating a configuration file for thresholds and other parameters.</font></h4>\n",
    "\n",
    "- <font color=#474747>Since Version 2 is a rule-based approach, this configuration file allows for easy customization and adjustment of thresholds and other relevant parameters during the final implementation.</font>"
   ]
  },
  {
   "cell_type": "code",
   "execution_count": 54,
   "id": "9cde31bd",
   "metadata": {},
   "outputs": [],
   "source": [
    "import yaml\n",
    "\n",
    "configuration = {\n",
    "    \"algorithm\": {\n",
    "        \"weight_data_cleaning_algorithm_v2.1\": {\n",
    "            \"first_valid_weight_selection\": \"approach_1\",\n",
    "            \"weight_thresholds_in_kg\": {\n",
    "                \"lower_weight_limit\": 40,\n",
    "                \"upper_weight_limit\": 300,\n",
    "                \"lower_weight_limit_union_pacific\": 10,\n",
    "                \"weight_recheck_reference_weight\": 2\n",
    "            },\n",
    "            \"weight_percent_change_check\": {\n",
    "                \"condition_1_percent_weight_change\": 0.05,\n",
    "                \"condition_2_percent_weight_change\": 0.10,\n",
    "                \"condition_3_percent_weight_change\": 0.20,\n",
    "                \"condition_1_time_threshold\": 7,\n",
    "                \"condition_2_time_threshold\": 30\n",
    "            }\n",
    "        }\n",
    "    }\n",
    "}\n",
    "\n",
    "# Write the YAML config to a file\n",
    "with open(\"scripts/config/algorithm_tuning_config.yaml\", \"w\") as config_file:\n",
    "    yaml.dump(configuration, config_file)\n"
   ]
  },
  {
   "cell_type": "code",
   "execution_count": 56,
   "id": "a14a76ee",
   "metadata": {},
   "outputs": [
    {
     "data": {
      "text/plain": [
       "True"
      ]
     },
     "execution_count": 56,
     "metadata": {},
     "output_type": "execute_result"
    }
   ],
   "source": [
    "# Reading the config file \n",
    "with open(\"scripts/config/algorithm_tuning_config.yaml\", \"r\") as config_file:\n",
    "    config_data = yaml.safe_load(config_file)\n",
    "    \n",
    "# \n",
    "config_data['algorithm'][\"weight_data_cleaning_algorithm_v2.1\"][\"first_valid_weight_selection\"]== 'approach_1'"
   ]
  },
  {
   "cell_type": "markdown",
   "id": "83fa825f",
   "metadata": {},
   "source": [
    "----\n",
    "<h4><font color=#F36E31> FINAL DATA CLEANING PIPELINE</font></h4>\n"
   ]
  },
  {
   "cell_type": "code",
   "execution_count": 57,
   "id": "d08cee9e",
   "metadata": {},
   "outputs": [],
   "source": [
    "def wht_cleaning_pipeline_func(**kwargs):\n",
    "    global_start_time = time.time()\n",
    "    \n",
    "    approach = \"approach_1\"\n",
    "    \n",
    "    start_time = time.time()\n",
    "    with open('scripts/sql_query/reference_weight.sql', 'r') as query:\n",
    "        data_static =  pd.read_sql_query(query.read(), con=connection, dtype={'VALUE': float})\n",
    "    elapsed_time = time.time() - start_time\n",
    "    logger.info(f\"\\nTime taken to fetch data_static from the sql: {round(elapsed_time, 2)} secs\")\n",
    "    \n",
    "    start_time = time.time()\n",
    "    with open('scripts/sql_query/data_preparation_query.sql', 'r') as query:\n",
    "        data_raw = pd.read_sql_query(query.read(), con=connection)\n",
    "    elapsed_time = time.time() - start_time\n",
    "    logger.info(f\"\\nTime taken to fetch data_raw from the sql: {round(elapsed_time, 2)} secs\")\n",
    "    \n",
    "    filepath = 'scripts/static_files/data_reference_wht.json'\n",
    "    required_ref_wht = reference_data_fix(data_static, previous_data_filepath=filepath)\n",
    "\n",
    "    # DATA PREPARATION\n",
    "    user_w_less_than_5_measures, valid_users_measures, user_w_more_than_5000_measures, valid_measurements_filtered_2, invalid_reference_weight_uids = data_preparation(required_ref_wht, data_raw) \n",
    "    valid_measurements_filtered_2 = valid_measurements_filtered_2.reset_index(drop=True)\n",
    "\n",
    "\n",
    "    # PART - I : VALID USER & FIRST VALID MEASUREMENT SELECTION\n",
    "    if approach is None:\n",
    "        first_valid_weight = first_valid_weight_selection_using_approach_1(valid_measurements_filtered_2, invalid_reference_weight_uids)\n",
    "    elif approach == \"approach_1\":\n",
    "        first_valid_weight = first_valid_weight_selection_using_approach_1(valid_measurements_filtered_2, invalid_reference_weight_uids)\n",
    "    elif approach == \"approach_2\":\n",
    "        first_valid_weight = first_valid_weight_selection_using_approach_2(valid_measurements_filtered_2, invalid_reference_weight_uids)\n",
    "    elif approach == \"approach_3\":\n",
    "        first_valid_weight = first_valid_weight_selection_using_approach_3(valid_measurements_filtered_2, np.median, invalid_reference_weight_uids)\n",
    "    else:\n",
    "        error_msg = f\"Invalid approach specified: {approach}\"\n",
    "        logger.error(error_msg)\n",
    "        raise ValueError(error_msg)\n",
    "\n",
    "    \n",
    "    # PART - II : DATA CLEANING FOR VALID USER\n",
    "    validated_data = data_cleaning_for_valid_user(filtered_data=valid_measurements_filtered_2, first_valid_weight=first_valid_weight, weight_measurements_gt_5=valid_users_measures)    \n",
    "    revalidated_data = revalidate_initial_weights(validated_data, first_valid_weight, weight_threshold=2)\n",
    "\n",
    "    # Final Data Preprocessing and Conatenation df2=valid_users_measures,\n",
    "    final_data = preprocess_and_concatenate_dataframes(df1=revalidated_data,\n",
    "                                           df2=valid_users_measures,\n",
    "                                           df3=user_w_less_than_5_measures,\n",
    "                                           df4=user_w_more_than_5000_measures,\n",
    "                                           first_valid_weight=first_valid_weight)\n",
    "    \n",
    "\n",
    "    elapsed_time =  time.time() - global_start_time\n",
    "    logger.info(f\" Total time taken to complete the computation process : {round(elapsed_time, 2)} secs\")\n",
    "    logger.info(f\" Shape of  final_data : {final_data.shape}\")\n",
    "    logger.info(f\" columns of the final_data : {final_data.columns}\")\n",
    "    logger.info(f\" dtype of the columns in final_data :{final_data.dtypes}\")\n",
    "    \n",
    "    return final_data"
   ]
  },
  {
   "cell_type": "code",
   "execution_count": null,
   "id": "6e61243f",
   "metadata": {},
   "outputs": [],
   "source": [
    "final_data = wht_cleaning_pipeline_func()"
   ]
  },
  {
   "cell_type": "markdown",
   "id": "9420f836",
   "metadata": {},
   "source": [
    "### Computation Time \n",
    "```Iteration-1```\n",
    "- data_static - 8.79 secs\n",
    "- data_raw - 57.74 secs\n",
    "- reference_data_fix: 3.63 secs\n",
    "- data_preparation - 1.1 secs\n",
    "- first_valid_weight_selection_using_approach_1 - 0.48 secs\n",
    "- data_cleaning_for_valid_user - 822.33 secs\n",
    "- re validate_initial_weights: 0.8 secs\n",
    "- preprocess_and_concatenate_dataframes: 3.32 secs\n",
    "- Total time taken to complete the computation process : 898.19 secs\n",
    "\n",
    "```Iteration-2```\n",
    "- data_static : 6.07 secs\n",
    "- data_raw :  34.24 secs\n",
    "- reference_data_fix: 3.61 secs\n",
    "- data_preparation: 1.09 secs\n",
    "- first_valid_weight_selection_using_approach_1: 0.48 secs\n",
    "- data_cleaning_for_valid_user: 821.13 secs\n",
    "- re validate_initial_weights: 0.77 secs\n",
    "- preprocess_and_concatenate_dataframes: 3.4 secs\n",
    "- Total time taken to complete the computation process : 870.79 secs\n",
    "\n",
    "```Iteration-3```\n",
    "- data_static : 11.64 secs\n",
    "- data_raw :  36.95 secs\n",
    "- reference_data_fix: 2.63 secs\n",
    "- data_preparation: 1.09 secs\n",
    "- first_valid_weight_selection_using_approach_1: 0.49 secs\n",
    "- data_cleaning_for_valid_user: 739.76 secs\n",
    "- revalidate_initial_weights: 0.77 secs\n",
    "- preprocess_and_concatenate_dataframes: 3.22 secs\n",
    "- Total time taken to complete the computation process : 796.72 secs\n",
    "\n",
    "```Iteration-4```\n",
    "\n",
    "- data_static : 13.91 secs\n",
    "- data_raw :  73.82 secs\n",
    "- reference_data_fix: 2.67 secs\n",
    "- data_preparation: 1.12 secs\n",
    "- first_valid_weight_selection_using_approach_1: 0.51 secs\n",
    "- data_cleaning_for_valid_user:739.53 secs\n",
    "- revalidate_initial_weights: 0.76 secs\n",
    "- preprocess_and_concatenate_dataframes: 3.24 secs\n",
    "- Total time taken to complete the computation process : 866.69 secs\n",
    "\n",
    "```Iteration-5```\n",
    "\n",
    "- data_static : 9.8 secs\n",
    "- data_raw : 72.68 secs\n",
    "- reference_data_fix: 2.54 secs\n",
    "- data_preparation: 1.05 secs\n",
    "- first_valid_weight_selection_using_approach_1:0.45 secs\n",
    "- data_cleaning_for_valid_user: 739.53 secs\n",
    "- revalidate_initial_weights: 0.76 secs\n",
    "- preprocess_and_concatenate_dataframes: 3.19 secs\n",
    "- Total time taken to complete the computation process : 830.16 secs"
   ]
  },
  {
   "cell_type": "code",
   "execution_count": 78,
   "id": "c0b3fec5",
   "metadata": {},
   "outputs": [],
   "source": [
    "rows = [[1, 8.79,  57.74, 3.63, 1.1, 0.48 , 822.33, 0.8, 3.32, 898.19],\n",
    "       [2, 6.07, 34.24, 3.61, 1.09, 0.48, 821.13, 0.77, 3.4, 870.79],\n",
    "       [3, 11.64, 36.95, 2.63, 1.09, 0.49, 739.76, 0.77, 3.22 , 796.72],\n",
    "       [4, 13.91, 73.82, 2.67, 1.12, 0.51, 739.53 ,  0.76, 3.24, 866.69],\n",
    "      [5, 9.8, 72.68, 2.54, 1.05, 0.45, 739.53, 0.76 , 3.19, 830.16 ]]\n",
    "\n",
    "columns = ['iteration', 'data_static', 'data_raw', 'reference_data_fix', 'data_preparation', 'first_valid_weight_selection_using_approach_1',\n",
    "           'data_cleaning_for_valid_user', 'revalidate_initial_weights', 'preprocess_and_concatenate_dataframes', \n",
    "          'total_time']\n",
    "computation_time  = pd.DataFrame(rows, columns=columns)"
   ]
  },
  {
   "cell_type": "code",
   "execution_count": 104,
   "id": "181c825e",
   "metadata": {},
   "outputs": [
    {
     "name": "stdout",
     "output_type": "stream",
     "text": [
      "AVERAGE TIME TAKEN FOR COMPLETING EACH STEP :\n",
      "\n",
      "data_static                                       10.042\n",
      "data_raw                                          55.086\n",
      "reference_data_fix                                 3.016\n",
      "data_preparation                                   1.090\n",
      "first_valid_weight_selection_using_approach_1      0.482\n",
      "data_cleaning_for_valid_user                     772.456\n",
      "revalidate_initial_weights                         0.772\n",
      "preprocess_and_concatenate_dataframes              3.274\n",
      "total_time                                       852.510\n",
      "dtype: float64\n"
     ]
    }
   ],
   "source": [
    "# Calculating mean, neglecting the 'iteration' column\n",
    "mean_time = computation_time.drop(columns='iteration').mean()\n",
    "print(\"AVERAGE TIME TAKEN FOR COMPLETING EACH STEP: \\n\")\n",
    "print(mean_time)"
   ]
  },
  {
   "cell_type": "markdown",
   "id": "5762eae6",
   "metadata": {},
   "source": [
    "----\n",
    "<h3><font color=#F36E31> SUMMARY </font></h3>\n"
   ]
  },
  {
   "cell_type": "markdown",
   "id": "334872a6",
   "metadata": {},
   "source": [
    "-  For reference weight, we may need to create a temporary view.\n",
    "\n",
    "- #### Optimization \n",
    "    - After observing ```Computation Time``` for each step and entire pipeline, It seems like it will take average       ```852.51 secs``` which is  ```14 mins``` approx to run entire pipeline locally. \n",
    "    - ```data_cleaning_for_valid_user```  will take maximum time (12 min out of 14 min approx. ) for execution.\n",
    "    - Further, ```data_cleaning_for_valid_user``` can be optimized if required."
   ]
  }
 ],
 "metadata": {
  "kernelspec": {
   "display_name": "Python 3 (ipykernel)",
   "language": "python",
   "name": "python3"
  },
  "language_info": {
   "codemirror_mode": {
    "name": "ipython",
    "version": 3
   },
   "file_extension": ".py",
   "mimetype": "text/x-python",
   "name": "python",
   "nbconvert_exporter": "python",
   "pygments_lexer": "ipython3",
   "version": "3.8.0"
  }
 },
 "nbformat": 4,
 "nbformat_minor": 5
}
